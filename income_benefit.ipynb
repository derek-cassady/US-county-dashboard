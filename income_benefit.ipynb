{
 "cells": [
  {
   "cell_type": "code",
   "execution_count": null,
   "metadata": {},
   "outputs": [],
   "source": [
    "import pandas as pd\n",
    "import requests\n",
    "import textwrap\n",
    "from time import sleep\n",
    "import json\n",
    "import xlsxwriter\n",
    "import os\n",
    "from openpyxl import workbook, load_workbook\n",
    "from openpyxl.utils.dataframe import dataframe_to_rows\n",
    "import numpy as np"
   ]
  },
  {
   "cell_type": "code",
   "execution_count": null,
   "metadata": {},
   "outputs": [],
   "source": [
    "key = '593ff23df30236471e2bd1165031f208ce43d9f4'"
   ]
  },
  {
   "cell_type": "markdown",
   "metadata": {},
   "source": [
    "### Variables for API Calls\n",
    "\n",
    "Assigning all the variables for each call to a python variable to be inserterted in the \n",
    "API call as a string."
   ]
  },
  {
   "cell_type": "code",
   "execution_count": 1,
   "metadata": {},
   "outputs": [],
   "source": [
    "total_households = ('DP03_0051E','DP03_0051PE')\n",
    "\t\n",
    "th_range = ('DP03_0052E','DP03_0052PE','DP03_0053E','DP03_0053PE','DP03_0054E',\n",
    "            'DP03_0054PE','DP03_0055E','DP03_0055PE','DP03_0056E',\n",
    "            'DP03_0056PE','DP03_0057E','DP03_0057PE','DP03_0058E',\n",
    "            'DP03_0058PE','DP03_0059E','DP03_0059PE','DP03_0060E',\n",
    "            'DP03_0060PE','DP03_0061E','DP03_0061PE'\n",
    "            )\n",
    "\t\n",
    "th_w_earn = ('DP03_0064E','DP03_0064PE')\n",
    "\t\n",
    "th_w_ss = ('DP03_0066E','DP03_0066PE')\n",
    "\t\n",
    "th_w_ri = ('DP03_0068E','DP03_0068PE')\n",
    "\t\n",
    "th_w_ssi = ('DP03_0070E','DP03_0070PE')\n",
    "\t\n",
    "th_w_cpa = ('DP03_0072E','DP03_0072PE')\n",
    "\t\n",
    "th_w_snap = ('DP03_0074E','DP03_0074PE')\n",
    "\t\n",
    "families = ('DP03_0075E','DP03_0075PE')\n",
    "\t\n",
    "fm_range = ('DP03_0076E','DP03_0076PE','DP03_0077E','DP03_0077PE','DP03_0078E',\n",
    "            'DP03_0078PE','DP03_0079E','DP03_0079PE','DP03_0080E',\n",
    "            'DP03_0080PE','DP03_0081E','DP03_0081PE','DP03_0082E',\n",
    "            'DP03_0082PE','DP03_0083E','DP03_0083PE','DP03_0084E',\n",
    "            'DP03_0084PE','DP03_0085E','DP03_0085PE'\n",
    "            )\n",
    "\t\n",
    "per_capita = ('DP03_0088E','DP03_0088PE')\n",
    "\t\n",
    "non_family = ('DP03_0089E','DP03_0089PE')\n",
    "\t\n",
    "worker_earn = ('DP03_0092E','DP03_0092PE')\n",
    "\t\n",
    "worker_ft_earn_male = ('DP03_0093E','DP03_0093PE')\n",
    "\t\n",
    "worker_ft_earn_female = ('DP03_0094E','DP03_0094PE')\n",
    "\n"
   ]
  }
 ],
 "metadata": {
  "kernelspec": {
   "display_name": ".venv",
   "language": "python",
   "name": "python3"
  },
  "language_info": {
   "codemirror_mode": {
    "name": "ipython",
    "version": 3
   },
   "file_extension": ".py",
   "mimetype": "text/x-python",
   "name": "python",
   "nbconvert_exporter": "python",
   "pygments_lexer": "ipython3",
   "version": "3.11.1"
  },
  "orig_nbformat": 4
 },
 "nbformat": 4,
 "nbformat_minor": 2
}
