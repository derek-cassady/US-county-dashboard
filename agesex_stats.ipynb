{
 "cells": [
  {
   "cell_type": "code",
   "execution_count": 54,
   "metadata": {},
   "outputs": [],
   "source": [
    "import pandas as pd\n",
    "from openpyxl import workbook, load_workbook\n",
    "from openpyxl.utils.dataframe import dataframe_to_rows\n",
    "import numpy as np\n",
    "import os"
   ]
  },
  {
   "cell_type": "markdown",
   "metadata": {},
   "source": [
    "### Loading file to dataframes\n",
    "\n",
    "Loading .xlsx file created in agesex.ipynb"
   ]
  },
  {
   "cell_type": "code",
   "execution_count": 55,
   "metadata": {},
   "outputs": [],
   "source": [
    "# Creating ordered list of DFs to name each sheet coming in from workbook\n",
    "df_names = ['DF_total_all','DF_male_all','DF_female_all','DF_total_whi',\n",
    "            'DF_total_male_whi','DF_total_female_whi','DF_total_baa',\n",
    "            'DF_total_male_baa','DF_total_female_baa','DF_total_aian',\n",
    "            'DF_total_male_aian','DF_total_female_aian','DF_total_aa',\n",
    "            'DF_total_male_aa','DF_total_female_aa','DF_total_nhop',\n",
    "            'DF_total_male_nhop','DF_total_female_nhop','DF_total_sor',\n",
    "            'DF_total_male_sor','DF_total_female_sor','DF_total_tom',\n",
    "            'DF_total_male_tom','DF_total_female_tom','DF_total_hol',\n",
    "            'DF_total_male_hol','DF_total_female_hol'\n",
    "            ]"
   ]
  },
  {
   "cell_type": "code",
   "execution_count": 56,
   "metadata": {},
   "outputs": [],
   "source": [
    "# Dictionary to store the dataframes\n",
    "dfs = {}\n",
    "\n",
    "# Get the path of the current working directory\n",
    "cwd = os.getcwd()\n",
    "\n",
    "# Construct the full path to the .xlsx file\n",
    "file_path = os.path.join(cwd, '2020_agesex_data.xlsx')\n",
    "\n",
    "# Load each sheet of the .xlsx file into a named dataframe\n",
    "for name in df_names:\n",
    "    df = pd.read_excel(file_path, sheet_name=name, header=None)  # Specify header=None to treat the first row as data\n",
    "    df.columns = df.iloc[0]  # Set the first row as the column headers\n",
    "    df = df[1:]  # Exclude the first row from the data\n",
    "    df.reset_index(drop=True, inplace=True)  # Reset the index\n",
    "    dfs[name] = df"
   ]
  },
  {
   "cell_type": "markdown",
   "metadata": {},
   "source": [
    "### Verifying dataframes load in"
   ]
  },
  {
   "cell_type": "code",
   "execution_count": 57,
   "metadata": {},
   "outputs": [
    {
     "name": "stdout",
     "output_type": "stream",
     "text": [
      "Data Frames in 'dfs':\n",
      "DF_total_all\n",
      "DF_male_all\n",
      "DF_female_all\n",
      "DF_total_whi\n",
      "DF_total_male_whi\n",
      "DF_total_female_whi\n",
      "DF_total_baa\n",
      "DF_total_male_baa\n",
      "DF_total_female_baa\n",
      "DF_total_aian\n",
      "DF_total_male_aian\n",
      "DF_total_female_aian\n",
      "DF_total_aa\n",
      "DF_total_male_aa\n",
      "DF_total_female_aa\n",
      "DF_total_nhop\n",
      "DF_total_male_nhop\n",
      "DF_total_female_nhop\n",
      "DF_total_sor\n",
      "DF_total_male_sor\n",
      "DF_total_female_sor\n",
      "DF_total_tom\n",
      "DF_total_male_tom\n",
      "DF_total_female_tom\n",
      "DF_total_hol\n",
      "DF_total_male_hol\n",
      "DF_total_female_hol\n"
     ]
    }
   ],
   "source": [
    "# Print the names of the dataframes in 'dfs'\n",
    "print(\"Data Frames in 'dfs':\")\n",
    "for name in dfs.keys():\n",
    "    print(name)"
   ]
  },
  {
   "cell_type": "code",
   "execution_count": 58,
   "metadata": {},
   "outputs": [
    {
     "data": {
      "text/plain": [
       "0\n",
       "Total                  object\n",
       "Under 1 Year           object\n",
       "1 Year                 object\n",
       "2 Years                object\n",
       "3 Years                object\n",
       "                        ...  \n",
       "110  Years and Over    object\n",
       "Location               object\n",
       "State                  object\n",
       "County                 object\n",
       "FIPS                   object\n",
       "Length: 108, dtype: object"
      ]
     },
     "execution_count": 58,
     "metadata": {},
     "output_type": "execute_result"
    }
   ],
   "source": [
    "dfs['DF_male_all'].dtypes"
   ]
  },
  {
   "cell_type": "code",
   "execution_count": 59,
   "metadata": {},
   "outputs": [
    {
     "name": "stdout",
     "output_type": "stream",
     "text": [
      "Columns of DF_male_all:\n",
      "Total\n",
      "Under 1 Year\n",
      "1 Year\n",
      "2 Years\n",
      "3 Years\n",
      "4 Years\n",
      "5 Years\n",
      "6 Years\n",
      "7 Years\n",
      "8 Years\n",
      "9 Years\n",
      "10 Years\n",
      "11 Years\n",
      "12 Years\n",
      "13 Years\n",
      "14 Years\n",
      "15 Years\n",
      "16 Years\n",
      "17 Years\n",
      "18 Years\n",
      "19 Years\n",
      "20 Years\n",
      "21 Years\n",
      "22 Years\n",
      "23 Years\n",
      "24 Years\n",
      "25 Years\n",
      "26 Years\n",
      "27 Years\n",
      "28 Years\n",
      "29 Years\n",
      "30 Years\n",
      "31 Years\n",
      "32 Years\n",
      "33 Years\n",
      "34 Years\n",
      "35 Years\n",
      "36 Years\n",
      "37 Years\n",
      "38 Years\n",
      "39 Years\n",
      "40 Years\n",
      "41 Years\n",
      "42 Years\n",
      "43 Years\n",
      "44 Years\n",
      "45 Years\n",
      "46 Years\n",
      "47 Years\n",
      "48 Years\n",
      "49 Years\n",
      "50 Years\n",
      "51 Years\n",
      "52 Years\n",
      "53 Years\n",
      "54 Years\n",
      "55 Years\n",
      "56 Years\n",
      "57 Years\n",
      "58 Years\n",
      "59 Years\n",
      "60 Years\n",
      "61 Years\n",
      "62 Years\n",
      "63 Years\n",
      "64 Years\n",
      "65 Years\n",
      "66 Years\n",
      "67 Years\n",
      "68 Years\n",
      "69 Years\n",
      "70 Years\n",
      "71 Years\n",
      "72 Years\n",
      "73 Years\n",
      "74 Years\n",
      "75 Years\n",
      "76 Years\n",
      "77 Years\n",
      "78 Years\n",
      "79 Years\n",
      "80 Years\n",
      "81 Years\n",
      "82 Years\n",
      "83 Years\n",
      "84 Years\n",
      "85 Years\n",
      "86 Years\n",
      "87 Years\n",
      "88 Years\n",
      "89 Years\n",
      "90 Years\n",
      "91 Years\n",
      "92 Years\n",
      "93 Years\n",
      "94 Years\n",
      "95 Years\n",
      "96 Years\n",
      "97  Years\n",
      "98  Years\n",
      "99  Years\n",
      "100 to 104  Years\n",
      "105 to 109  Years\n",
      "110  Years and Over\n",
      "Location\n",
      "State\n",
      "County\n",
      "FIPS\n"
     ]
    }
   ],
   "source": [
    "df = dfs['DF_male_all']\n",
    "# Print the columns\n",
    "print(\"Columns of DF_male_all:\")\n",
    "for column in df.columns:\n",
    "    print(column)"
   ]
  },
  {
   "cell_type": "markdown",
   "metadata": {},
   "source": [
    "### Building weighted average column"
   ]
  },
  {
   "cell_type": "markdown",
   "metadata": {},
   "source": [
    "Grouping Dataframes with like structures"
   ]
  },
  {
   "cell_type": "code",
   "execution_count": 60,
   "metadata": {},
   "outputs": [],
   "source": [
    "stats_df = ['DF_male_all','DF_female_all','DF_total_male_whi',\n",
    "             'DF_total_female_whi','DF_total_male_baa','DF_total_female_baa',\n",
    "             'DF_total_male_aian','DF_total_female_aian','DF_total_male_aa',\n",
    "             'DF_total_female_aa','DF_total_male_nhop','DF_total_female_nhop',\n",
    "             'DF_total_male_sor','DF_total_female_sor','DF_total_male_tom',\n",
    "             'DF_total_female_tom','DF_total_male_hol','DF_total_female_hol'\n",
    "             ]"
   ]
  },
  {
   "cell_type": "markdown",
   "metadata": {},
   "source": [
    "Setting new column names and columns to be typed to integer"
   ]
  },
  {
   "cell_type": "code",
   "execution_count": 63,
   "metadata": {},
   "outputs": [],
   "source": [
    "col_names = ['Total','0','1','2','3','4','5','6','7','8','9','10','11','12',\n",
    "             '13','14','15','16','17','18','19','20','21','22','23','24','25',\n",
    "             '26','27','28','29','30','31','32','33','34','35','36','37','38',\n",
    "             '39','40','41','42','43','44','45','46','47','48','49','50','51',\n",
    "             '52','53','54','55','56','57','58','59','60','61','62','63','64',\n",
    "             '65','66','67','68','69','70','71','72','73','74','75','76','77',\n",
    "             '78','79','80','81','82','83','84','85','86','87','88','89','90',\n",
    "             '91','92','93','94','95','96','97','98','99','102','107','110',\n",
    "             'Location','State','County','FIPS'\n",
    "             ]\n",
    "\n",
    "col_ints = ['0','1','2','3','4','5','6','7','8','9','10','11','12','13','14',\n",
    "            '15','16','17','18','19','20','21','22','23','24','25','26','27',\n",
    "            '28','29','30','31','32','33','34','35','36','37','38','39','40',\n",
    "            '41','42','43','44','45','46','47','48','49','50','51','52','53',\n",
    "            '54','55','56','57','58','59','60','61','62','63','64','65','66',\n",
    "            '67','68','69','70','71','72','73','74','75','76','77','78','79',\n",
    "            '80','81','82','83','84','85','86','87','88','89','90','91','92',\n",
    "            '93','94','95','96','97','98','99','102','107','110'\n",
    "            ]"
   ]
  },
  {
   "cell_type": "markdown",
   "metadata": {},
   "source": [
    "Iterating through grouped dataframes to change column name and type"
   ]
  },
  {
   "cell_type": "code",
   "execution_count": 65,
   "metadata": {},
   "outputs": [],
   "source": [
    "# Iterate over the dataframes in 'dfs'\n",
    "for key, df in dfs.items():\n",
    "    # Check if the dataframe is present in 'stats_df'\n",
    "    if key in stats_df:\n",
    "        # Modify column names based on 'col_names' list\n",
    "        df.columns = col_names[:len(df.columns)]\n",
    "        \n",
    "        # Loop through the columns to convert to integers\n",
    "        for col in df.columns:\n",
    "            if col in col_ints:\n",
    "                # Change the column name to an integer\n",
    "                df.rename(columns={col: int(col)}, inplace=True)"
   ]
  },
  {
   "cell_type": "code",
   "execution_count": null,
   "metadata": {},
   "outputs": [],
   "source": [
    "        # Calculate weighted average for each row\n",
    "        weights = df[col_ints].columns.astype(int)\n",
    "        values = df[col_ints].values\n",
    "        df['Average Age'] = (values * weights).sum(axis=1) / weights.sum()"
   ]
  },
  {
   "cell_type": "markdown",
   "metadata": {},
   "source": [
    "### Changing column types"
   ]
  },
  {
   "cell_type": "code",
   "execution_count": 22,
   "metadata": {},
   "outputs": [],
   "source": [
    "# Convert specific columns to str\n",
    "str_columns = ['Location', 'State', 'County', 'FIPS']\n",
    "\n",
    "for column in str_columns:\n",
    "    df[column] = df[column].astype(str)\n",
    "\n",
    "# Convert remaining columns to int\n",
    "int_columns = [col for col in df.columns if col not in str_columns]\n",
    "df[int_columns] = df[int_columns].astype(int, errors='ignore')"
   ]
  },
  {
   "cell_type": "code",
   "execution_count": null,
   "metadata": {},
   "outputs": [],
   "source": [
    "dfs['DF_male_all'].dtypes"
   ]
  },
  {
   "cell_type": "markdown",
   "metadata": {},
   "source": [
    "### Building Percent columns"
   ]
  },
  {
   "cell_type": "code",
   "execution_count": 33,
   "metadata": {},
   "outputs": [],
   "source": [
    "stats_df = ['DF_male_all','DF_female_all','DF_total_male_whi',\n",
    "             'DF_total_female_whi','DF_total_male_baa','DF_total_female_baa',\n",
    "             'DF_total_male_aian','DF_total_female_aian','DF_total_male_aa',\n",
    "             'DF_total_female_aa','DF_total_male_nhop','DF_total_female_nhop',\n",
    "             'DF_total_male_sor','DF_total_female_sor','DF_total_male_tom',\n",
    "             'DF_total_female_tom','DF_total_male_hol','DF_total_female_hol'\n",
    "             ]\n",
    "\n",
    "perc_col = ['Under 1 Year','1 Year','2 Years','3 Years','4 Years',\n",
    "             '5 Years','6 Years','7 Years','8 Years','9 Years','10 Years',\n",
    "             '11 Years','12 Years','13 Years','14 Years','15 Years','16 Years',\n",
    "             '17 Years','18 Years','19 Years','20 Years','21 Years','22 Years',\n",
    "             '23 Years','24 Years','25 Years','26 Years','27 Years','28 Years',\n",
    "             '29 Years','30 Years','31 Years','32 Years','33 Years','34 Years',\n",
    "             '35 Years','36 Years','37 Years','38 Years','39 Years','40 Years',\n",
    "             '41 Years','42 Years','43 Years','44 Years','45 Years','46 Years',\n",
    "             '47 Years','48 Years','49 Years','50 Years','51 Years','52 Years',\n",
    "             '53 Years','54 Years','55 Years','56 Years','57 Years','58 Years',\n",
    "             '59 Years','60 Years','61 Years','62 Years','63 Years','64 Years',\n",
    "             '65 Years','66 Years','67 Years','68 Years','69 Years','70 Years',\n",
    "             '71 Years','72 Years','73 Years','74 Years','75 Years','76 Years',\n",
    "             '77 Years','78 Years','79 Years','80 Years','81 Years','82 Years',\n",
    "             '83 Years','84 Years','85 Years','86 Years','87 Years','88 Years',\n",
    "             '89 Years','90 Years','91 Years','92 Years','93 Years','94 Years',\n",
    "             '95 Years','96 Years','97  Years','98  Years','99  Years',\n",
    "             '100 to 104  Years','105 to 109  Years','110  Years and Over',\n",
    "             ]"
   ]
  },
  {
   "cell_type": "markdown",
   "metadata": {},
   "source": [
    "#### Building percent to total"
   ]
  },
  {
   "cell_type": "code",
   "execution_count": 34,
   "metadata": {},
   "outputs": [
    {
     "ename": "ValueError",
     "evalue": "cannot insert Under 1 Year Percent to Total, already exists",
     "output_type": "error",
     "traceback": [
      "\u001b[1;31m---------------------------------------------------------------------------\u001b[0m",
      "\u001b[1;31mValueError\u001b[0m                                Traceback (most recent call last)",
      "\u001b[1;32m~\\AppData\\Local\\Temp\\ipykernel_32848\\2452945118.py\u001b[0m in \u001b[0;36m?\u001b[1;34m()\u001b[0m\n\u001b[0;32m      1\u001b[0m \u001b[1;31m# Calculate the percentage for each column in perc_col\u001b[0m\u001b[1;33m\u001b[0m\u001b[1;33m\u001b[0m\u001b[0m\n\u001b[0;32m      2\u001b[0m \u001b[1;32mfor\u001b[0m \u001b[0mcol\u001b[0m \u001b[1;32min\u001b[0m \u001b[0mperc_col\u001b[0m\u001b[1;33m:\u001b[0m\u001b[1;33m\u001b[0m\u001b[1;33m\u001b[0m\u001b[0m\n\u001b[0;32m      3\u001b[0m     \u001b[0mpercent_col\u001b[0m \u001b[1;33m=\u001b[0m \u001b[0mcol\u001b[0m \u001b[1;33m+\u001b[0m \u001b[1;34m' Percent to Total'\u001b[0m\u001b[1;33m\u001b[0m\u001b[1;33m\u001b[0m\u001b[0m\n\u001b[0;32m      4\u001b[0m     \u001b[0mnew_col_index\u001b[0m \u001b[1;33m=\u001b[0m \u001b[0mdf\u001b[0m\u001b[1;33m.\u001b[0m\u001b[0mcolumns\u001b[0m\u001b[1;33m.\u001b[0m\u001b[0mget_loc\u001b[0m\u001b[1;33m(\u001b[0m\u001b[0mcol\u001b[0m\u001b[1;33m)\u001b[0m \u001b[1;33m+\u001b[0m \u001b[1;36m1\u001b[0m  \u001b[1;31m# Get the index of the current column and add 1\u001b[0m\u001b[1;33m\u001b[0m\u001b[1;33m\u001b[0m\u001b[0m\n\u001b[1;32m----> 5\u001b[1;33m     \u001b[0mdf\u001b[0m\u001b[1;33m.\u001b[0m\u001b[0minsert\u001b[0m\u001b[1;33m(\u001b[0m\u001b[0mnew_col_index\u001b[0m\u001b[1;33m,\u001b[0m \u001b[0mpercent_col\u001b[0m\u001b[1;33m,\u001b[0m \u001b[1;33m(\u001b[0m\u001b[0mdf\u001b[0m\u001b[1;33m[\u001b[0m\u001b[0mcol\u001b[0m\u001b[1;33m]\u001b[0m \u001b[1;33m/\u001b[0m \u001b[0mdf\u001b[0m\u001b[1;33m[\u001b[0m\u001b[1;34m'Total'\u001b[0m\u001b[1;33m]\u001b[0m\u001b[1;33m)\u001b[0m \u001b[1;33m*\u001b[0m \u001b[1;36m100\u001b[0m\u001b[1;33m)\u001b[0m\u001b[1;33m\u001b[0m\u001b[1;33m\u001b[0m\u001b[0m\n\u001b[0m\u001b[0;32m      6\u001b[0m     \u001b[0mdf\u001b[0m\u001b[1;33m[\u001b[0m\u001b[0mpercent_col\u001b[0m\u001b[1;33m]\u001b[0m \u001b[1;33m=\u001b[0m \u001b[0mdf\u001b[0m\u001b[1;33m[\u001b[0m\u001b[0mpercent_col\u001b[0m\u001b[1;33m]\u001b[0m\u001b[1;33m.\u001b[0m\u001b[0mround\u001b[0m\u001b[1;33m(\u001b[0m\u001b[1;36m2\u001b[0m\u001b[1;33m)\u001b[0m\u001b[1;33m\u001b[0m\u001b[1;33m\u001b[0m\u001b[0m\n",
      "\u001b[1;32mc:\\Users\\Derek\\Desktop\\Code_Louisville\\DA_2_Project\\US-county-dashboard\\.venv\\Lib\\site-packages\\pandas\\core\\frame.py\u001b[0m in \u001b[0;36m?\u001b[1;34m(self, loc, column, value, allow_duplicates)\u001b[0m\n\u001b[0;32m   4768\u001b[0m                 \u001b[1;34m\"'self.flags.allows_duplicate_labels' is False.\"\u001b[0m\u001b[1;33m\u001b[0m\u001b[1;33m\u001b[0m\u001b[0m\n\u001b[0;32m   4769\u001b[0m             )\n\u001b[0;32m   4770\u001b[0m         \u001b[1;32mif\u001b[0m \u001b[1;32mnot\u001b[0m \u001b[0mallow_duplicates\u001b[0m \u001b[1;32mand\u001b[0m \u001b[0mcolumn\u001b[0m \u001b[1;32min\u001b[0m \u001b[0mself\u001b[0m\u001b[1;33m.\u001b[0m\u001b[0mcolumns\u001b[0m\u001b[1;33m:\u001b[0m\u001b[1;33m\u001b[0m\u001b[1;33m\u001b[0m\u001b[0m\n\u001b[0;32m   4771\u001b[0m             \u001b[1;31m# Should this be a different kind of error??\u001b[0m\u001b[1;33m\u001b[0m\u001b[1;33m\u001b[0m\u001b[0m\n\u001b[1;32m-> 4772\u001b[1;33m             \u001b[1;32mraise\u001b[0m \u001b[0mValueError\u001b[0m\u001b[1;33m(\u001b[0m\u001b[1;34mf\"cannot insert {column}, already exists\"\u001b[0m\u001b[1;33m)\u001b[0m\u001b[1;33m\u001b[0m\u001b[1;33m\u001b[0m\u001b[0m\n\u001b[0m\u001b[0;32m   4773\u001b[0m         \u001b[1;32mif\u001b[0m \u001b[1;32mnot\u001b[0m \u001b[0misinstance\u001b[0m\u001b[1;33m(\u001b[0m\u001b[0mloc\u001b[0m\u001b[1;33m,\u001b[0m \u001b[0mint\u001b[0m\u001b[1;33m)\u001b[0m\u001b[1;33m:\u001b[0m\u001b[1;33m\u001b[0m\u001b[1;33m\u001b[0m\u001b[0m\n\u001b[0;32m   4774\u001b[0m             \u001b[1;32mraise\u001b[0m \u001b[0mTypeError\u001b[0m\u001b[1;33m(\u001b[0m\u001b[1;34m\"loc must be int\"\u001b[0m\u001b[1;33m)\u001b[0m\u001b[1;33m\u001b[0m\u001b[1;33m\u001b[0m\u001b[0m\n\u001b[0;32m   4775\u001b[0m \u001b[1;33m\u001b[0m\u001b[0m\n",
      "\u001b[1;31mValueError\u001b[0m: cannot insert Under 1 Year Percent to Total, already exists"
     ]
    }
   ],
   "source": [
    "# Calculate the percentage for each column in perc_col\n",
    "for col in perc_col:\n",
    "    percent_col = col + ' Percent to Total'\n",
    "    new_col_index = df.columns.get_loc(col) + 1  # Get the index of the current column and add 1\n",
    "    df.insert(new_col_index, percent_col, (df[col] / df['Total']) * 100)\n",
    "    df[percent_col] = df[percent_col].round(2)"
   ]
  },
  {
   "cell_type": "code",
   "execution_count": 53,
   "metadata": {},
   "outputs": [
    {
     "name": "stdout",
     "output_type": "stream",
     "text": [
      "[[40783 437 1.07 ... '029' '21029' 507.2429934041145]\n",
      " [6205 70 1.13 ... '031' '21031' 78.55745366639806]\n",
      " [6136 72 1.17 ... '033' '21033' 75.40600032610467]\n",
      " ...\n",
      " [19687 190 0.97 ... '227' '48227' 260.4909053957931]\n",
      " [1684 20 1.19 ... '229' '48229' 25.907902554961378]\n",
      " [49310 593 1.2 ... '231' '48231' 612.1351154017767]]\n"
     ]
    }
   ],
   "source": [
    "print(dfs['DF_male_all'].values)"
   ]
  },
  {
   "cell_type": "code",
   "execution_count": 35,
   "metadata": {},
   "outputs": [
    {
     "name": "stdout",
     "output_type": "stream",
     "text": [
      "Columns of DF_male_all:\n",
      "Total\n",
      "Under 1 Year\n",
      "Under 1 Year Percent to Total\n",
      "1 Year\n",
      "1 Year Percent to Total\n",
      "2 Years\n",
      "2 Years Percent to Total\n",
      "3 Years\n",
      "3 Years Percent to Total\n",
      "4 Years\n",
      "4 Years Percent to Total\n",
      "5 Years\n",
      "5 Years Percent to Total\n",
      "6 Years\n",
      "6 Years Percent to Total\n",
      "7 Years\n",
      "7 Years Percent to Total\n",
      "8 Years\n",
      "8 Years Percent to Total\n",
      "9 Years\n",
      "9 Years Percent to Total\n",
      "10 Years\n",
      "10 Years Percent to Total\n",
      "11 Years\n",
      "11 Years Percent to Total\n",
      "12 Years\n",
      "12 Years Percent to Total\n",
      "13 Years\n",
      "13 Years Percent to Total\n",
      "14 Years\n",
      "14 Years Percent to Total\n",
      "15 Years\n",
      "15 Years Percent to Total\n",
      "16 Years\n",
      "16 Years Percent to Total\n",
      "17 Years\n",
      "17 Years Percent to Total\n",
      "18 Years\n",
      "18 Years Percent to Total\n",
      "19 Years\n",
      "19 Years Percent to Total\n",
      "20 Years\n",
      "20 Years Percent to Total\n",
      "21 Years\n",
      "21 Years Percent to Total\n",
      "22 Years\n",
      "22 Years Percent to Total\n",
      "23 Years\n",
      "23 Years Percent to Total\n",
      "24 Years\n",
      "24 Years Percent to Total\n",
      "25 Years\n",
      "25 Years Percent to Total\n",
      "26 Years\n",
      "26 Years Percent to Total\n",
      "27 Years\n",
      "27 Years Percent to Total\n",
      "28 Years\n",
      "28 Years Percent to Total\n",
      "29 Years\n",
      "29 Years Percent to Total\n",
      "30 Years\n",
      "30 Years Percent to Total\n",
      "31 Years\n",
      "31 Years Percent to Total\n",
      "32 Years\n",
      "32 Years Percent to Total\n",
      "33 Years\n",
      "33 Years Percent to Total\n",
      "34 Years\n",
      "34 Years Percent to Total\n",
      "35 Years\n",
      "35 Years Percent to Total\n",
      "36 Years\n",
      "36 Years Percent to Total\n",
      "37 Years\n",
      "37 Years Percent to Total\n",
      "38 Years\n",
      "38 Years Percent to Total\n",
      "39 Years\n",
      "39 Years Percent to Total\n",
      "40 Years\n",
      "40 Years Percent to Total\n",
      "41 Years\n",
      "41 Years Percent to Total\n",
      "42 Years\n",
      "42 Years Percent to Total\n",
      "43 Years\n",
      "43 Years Percent to Total\n",
      "44 Years\n",
      "44 Years Percent to Total\n",
      "45 Years\n",
      "45 Years Percent to Total\n",
      "46 Years\n",
      "46 Years Percent to Total\n",
      "47 Years\n",
      "47 Years Percent to Total\n",
      "48 Years\n",
      "48 Years Percent to Total\n",
      "49 Years\n",
      "49 Years Percent to Total\n",
      "50 Years\n",
      "50 Years Percent to Total\n",
      "51 Years\n",
      "51 Years Percent to Total\n",
      "52 Years\n",
      "52 Years Percent to Total\n",
      "53 Years\n",
      "53 Years Percent to Total\n",
      "54 Years\n",
      "54 Years Percent to Total\n",
      "55 Years\n",
      "55 Years Percent to Total\n",
      "56 Years\n",
      "56 Years Percent to Total\n",
      "57 Years\n",
      "57 Years Percent to Total\n",
      "58 Years\n",
      "58 Years Percent to Total\n",
      "59 Years\n",
      "59 Years Percent to Total\n",
      "60 Years\n",
      "60 Years Percent to Total\n",
      "61 Years\n",
      "61 Years Percent to Total\n",
      "62 Years\n",
      "62 Years Percent to Total\n",
      "63 Years\n",
      "63 Years Percent to Total\n",
      "64 Years\n",
      "64 Years Percent to Total\n",
      "65 Years\n",
      "65 Years Percent to Total\n",
      "66 Years\n",
      "66 Years Percent to Total\n",
      "67 Years\n",
      "67 Years Percent to Total\n",
      "68 Years\n",
      "68 Years Percent to Total\n",
      "69 Years\n",
      "69 Years Percent to Total\n",
      "70 Years\n",
      "70 Years Percent to Total\n",
      "71 Years\n",
      "71 Years Percent to Total\n",
      "72 Years\n",
      "72 Years Percent to Total\n",
      "73 Years\n",
      "73 Years Percent to Total\n",
      "74 Years\n",
      "74 Years Percent to Total\n",
      "75 Years\n",
      "75 Years Percent to Total\n",
      "76 Years\n",
      "76 Years Percent to Total\n",
      "77 Years\n",
      "77 Years Percent to Total\n",
      "78 Years\n",
      "78 Years Percent to Total\n",
      "79 Years\n",
      "79 Years Percent to Total\n",
      "80 Years\n",
      "80 Years Percent to Total\n",
      "81 Years\n",
      "81 Years Percent to Total\n",
      "82 Years\n",
      "82 Years Percent to Total\n",
      "83 Years\n",
      "83 Years Percent to Total\n",
      "84 Years\n",
      "84 Years Percent to Total\n",
      "85 Years\n",
      "85 Years Percent to Total\n",
      "86 Years\n",
      "86 Years Percent to Total\n",
      "87 Years\n",
      "87 Years Percent to Total\n",
      "88 Years\n",
      "88 Years Percent to Total\n",
      "89 Years\n",
      "89 Years Percent to Total\n",
      "90 Years\n",
      "90 Years Percent to Total\n",
      "91 Years\n",
      "91 Years Percent to Total\n",
      "92 Years\n",
      "92 Years Percent to Total\n",
      "93 Years\n",
      "93 Years Percent to Total\n",
      "94 Years\n",
      "94 Years Percent to Total\n",
      "95 Years\n",
      "95 Years Percent to Total\n",
      "96 Years\n",
      "96 Years Percent to Total\n",
      "97  Years\n",
      "97  Years Percent to Total\n",
      "98  Years\n",
      "98  Years Percent to Total\n",
      "99  Years\n",
      "99  Years Percent to Total\n",
      "100 to 104  Years\n",
      "100 to 104  Years Percent to Total\n",
      "105 to 109  Years\n",
      "105 to 109  Years Percent to Total\n",
      "110  Years and Over\n",
      "110  Years and Over Percent to Total\n",
      "Location\n",
      "State\n",
      "County\n",
      "FIPS\n"
     ]
    }
   ],
   "source": [
    "df = dfs['DF_male_all']\n",
    "# Print the columns\n",
    "print(\"Columns of DF_male_all:\")\n",
    "for column in df.columns:\n",
    "    print(column)"
   ]
  },
  {
   "cell_type": "code",
   "execution_count": 48,
   "metadata": {},
   "outputs": [
    {
     "name": "stdout",
     "output_type": "stream",
     "text": [
      "27.02\n"
     ]
    }
   ],
   "source": [
    "weight = [12,26,30,17,22,12,36,17,25,14,26,41,30,29,51,30,21,34,14,23,21,11,8,\n",
    "         17,4,7,12,23,15,22,11,4,25,18,10,25,28,3,18,17,14,25,10,14,10,12,7,5,\n",
    "         17,9,9,11,18,15,11,7,7,9,4,6,7,2,5,1,7,0,0,8,2,3,3,8,2,6,4,0,3,3,1,1,\n",
    "         2,1,0,0,0,0,0,0,0,0,0,0,2,0,0,0,0,0,0,0,0,0,0\n",
    "         ]\n",
    "\n",
    "col_names = ['Total','0','1','2','3','4','5','6','7','8','9','10','11','12',\n",
    "             '13','14','15','16','17','18','19','20','21','22','23','24','25',\n",
    "             '26','27','28','29','30','31','32','33','34','35','36','37','38',\n",
    "             '39','40','41','42','43','44','45','46','47','48','49','50','51',\n",
    "             '52','53','54','55','56','57','58','59','60','61','62','63','64',\n",
    "             '65','66','67','68','69','70','71','72','73','74','75','76','77',\n",
    "             '78','79','80','81','82','83','84','85','86','87','88','89','90',\n",
    "             '91','92','93','94','95','96','97','98','99','102','107','110',\n",
    "             'Location','State','County','FIPS'\n",
    "             ]\n",
    "\n",
    "print(np.average(a=value, weights=weight))"
   ]
  }
 ],
 "metadata": {
  "kernelspec": {
   "display_name": ".venv",
   "language": "python",
   "name": "python3"
  },
  "language_info": {
   "codemirror_mode": {
    "name": "ipython",
    "version": 3
   },
   "file_extension": ".py",
   "mimetype": "text/x-python",
   "name": "python",
   "nbconvert_exporter": "python",
   "pygments_lexer": "ipython3",
   "version": "3.11.1"
  },
  "orig_nbformat": 4
 },
 "nbformat": 4,
 "nbformat_minor": 2
}
