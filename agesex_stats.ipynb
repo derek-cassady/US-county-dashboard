{
 "cells": [
  {
   "cell_type": "markdown",
   "metadata": {},
   "source": [
    "# Age & Sex Statistics"
   ]
  },
  {
   "cell_type": "markdown",
   "metadata": {},
   "source": [
    "## Import Needed Libraries"
   ]
  },
  {
   "cell_type": "code",
   "execution_count": 310,
   "metadata": {},
   "outputs": [],
   "source": [
    "import pandas as pd\n",
    "from openpyxl import workbook, load_workbook\n",
    "from openpyxl.utils.dataframe import dataframe_to_rows\n",
    "import numpy as np\n",
    "import os\n",
    "import math"
   ]
  },
  {
   "cell_type": "markdown",
   "metadata": {},
   "source": [
    "## Loading file to dataframes"
   ]
  },
  {
   "cell_type": "markdown",
   "metadata": {},
   "source": [
    "List of dataframes and their proper order"
   ]
  },
  {
   "cell_type": "code",
   "execution_count": 311,
   "metadata": {},
   "outputs": [],
   "source": [
    "# Creating ordered list of DFs to name each sheet coming in from workbook\n",
    "df_names = ['DF_total_all','DF_male_all','DF_female_all','DF_total_whi',\n",
    "            'DF_total_male_whi','DF_total_female_whi','DF_total_baa',\n",
    "            'DF_total_male_baa','DF_total_female_baa','DF_total_aian',\n",
    "            'DF_total_male_aian','DF_total_female_aian','DF_total_aa',\n",
    "            'DF_total_male_aa','DF_total_female_aa','DF_total_nhop',\n",
    "            'DF_total_male_nhop','DF_total_female_nhop','DF_total_sor',\n",
    "            'DF_total_male_sor','DF_total_female_sor','DF_total_tom',\n",
    "            'DF_total_male_tom','DF_total_female_tom','DF_total_hol',\n",
    "            'DF_total_male_hol','DF_total_female_hol'\n",
    "            ]"
   ]
  },
  {
   "cell_type": "markdown",
   "metadata": {},
   "source": [
    "### Variables for column names and type"
   ]
  },
  {
   "cell_type": "code",
   "execution_count": 312,
   "metadata": {},
   "outputs": [],
   "source": [
    "cols_int = ['Under 1 Year','1 Year','2 Years','3 Years','4 Years','5 Years',\n",
    "            '6 Years','7 Years','8 Years','9 Years','10 Years','11 Years',\n",
    "            '12 Years','13 Years','14 Years','15 Years','16 Years','17 Years',\n",
    "            '18 Years','19 Years','20 Years','21 Years','22 Years','23 Years',\n",
    "            '24 Years','25 Years','26 Years','27 Years','28 Years','29 Years',\n",
    "            '30 Years','31 Years','32 Years','33 Years','34 Years','35 Years',\n",
    "            '36 Years','37 Years','38 Years','39 Years','40 Years','41 Years',\n",
    "            '42 Years','43 Years','44 Years','45 Years','46 Years','47 Years',\n",
    "            '48 Years','49 Years','50 Years','51 Years','52 Years','53 Years',\n",
    "            '54 Years','55 Years','56 Years','57 Years','58 Years','59 Years',\n",
    "            '60 Years','61 Years','62 Years','63 Years','64 Years','65 Years',\n",
    "            '66 Years','67 Years','68 Years','69 Years','70 Years','71 Years',\n",
    "            '72 Years','73 Years','74 Years','75 Years','76 Years','77 Years',\n",
    "            '78 Years','79 Years','80 Years','81 Years','82 Years','83 Years',\n",
    "            '84 Years','85 Years','86 Years','87 Years','88 Years','89 Years',\n",
    "            '90 Years','91 Years','92 Years','93 Years','94 Years','95 Years',\n",
    "            '96 Years','97  Years','98  Years','99  Years','100 to 104  Years',\n",
    "            '105 to 109  Years','110  Years and Over'\n",
    "            ]\n",
    "\n",
    "cols_str = ['Location', 'State', 'County', 'FIPS']"
   ]
  },
  {
   "cell_type": "markdown",
   "metadata": {},
   "source": [
    "### Loading process"
   ]
  },
  {
   "cell_type": "code",
   "execution_count": 313,
   "metadata": {},
   "outputs": [],
   "source": [
    "# Dictionary to store the dataframes\n",
    "dfs = {}\n",
    "\n",
    "# Get the path of the current working directory\n",
    "cwd = os.getcwd()\n",
    "\n",
    "# Construct the full path to the .xlsx file\n",
    "file_path = os.path.join(cwd, '2020_agesex_data.xlsx')\n",
    "\n",
    "# Load each sheet of the .xlsx file into a named dataframe\n",
    "for name in df_names:\n",
    "    df = pd.read_excel(file_path, sheet_name=name, header=None)  # Specify header=None to treat the first row as data\n",
    "    df.columns = df.iloc[0]  # Set the first row as the column headers\n",
    "    df = df[1:]  # Exclude the first row from the data\n",
    "    df.reset_index(drop=True, inplace=True)  # Reset the index\n",
    "    \n",
    "    # Change column types based on column names\n",
    "    for column in cols_int:\n",
    "        if column in df.columns:\n",
    "            df[column] = df[column].astype(int)\n",
    "    \n",
    "    for column in cols_str:\n",
    "        if column in df.columns:\n",
    "            df[column] = df[column].astype(str)\n",
    "    \n",
    "    dfs[name] = df"
   ]
  },
  {
   "cell_type": "markdown",
   "metadata": {},
   "source": [
    "### Verifying"
   ]
  },
  {
   "cell_type": "markdown",
   "metadata": {},
   "source": [
    "Print all the name and shape of the dataframes loaded in"
   ]
  },
  {
   "cell_type": "code",
   "execution_count": null,
   "metadata": {},
   "outputs": [],
   "source": [
    "# Print the shape of the dataframes in 'dfs'\n",
    "print(\"Data Frames in 'dfs':\")\n",
    "for name in dfs.keys():\n",
    "    print(name)\n",
    "    print(dfs[name].shape)"
   ]
  },
  {
   "cell_type": "markdown",
   "metadata": {},
   "source": [
    "Print all the names & dtype of the dataframes loaded in"
   ]
  },
  {
   "cell_type": "code",
   "execution_count": null,
   "metadata": {},
   "outputs": [],
   "source": [
    "# Print the names & dtype of the dataframes in 'dfs'\n",
    "print(\"Data Frames in 'dfs':\")\n",
    "for name in dfs.keys():\n",
    "    print(name)\n",
    "    print(dfs[name].dtypes)"
   ]
  },
  {
   "cell_type": "markdown",
   "metadata": {},
   "source": [
    "Print all the column names of the dataframes loaded in"
   ]
  },
  {
   "cell_type": "code",
   "execution_count": null,
   "metadata": {},
   "outputs": [],
   "source": [
    "# Iterate over the dataframes in 'dfs'\n",
    "for key, df in dfs.items():\n",
    "    print(f\"Columns of dataframe '{key}': {list(df.columns)}\")"
   ]
  },
  {
   "cell_type": "markdown",
   "metadata": {},
   "source": [
    "## Building Percent to Total column\n",
    "Percent to total for male & female age groups"
   ]
  },
  {
   "cell_type": "markdown",
   "metadata": {},
   "source": [
    "### Grouping Dataframes with like structures"
   ]
  },
  {
   "cell_type": "code",
   "execution_count": 306,
   "metadata": {},
   "outputs": [],
   "source": [
    "perc_df = ['DF_male_all','DF_female_all','DF_total_male_whi',\n",
    "             'DF_total_female_whi','DF_total_male_baa','DF_total_female_baa',\n",
    "             'DF_total_male_aian','DF_total_female_aian','DF_total_male_aa',\n",
    "             'DF_total_female_aa','DF_total_male_nhop','DF_total_female_nhop',\n",
    "             'DF_total_male_sor','DF_total_female_sor','DF_total_male_tom',\n",
    "             'DF_total_female_tom','DF_total_male_hol','DF_total_female_hol'\n",
    "             ]\n",
    "\n",
    "perc_df_2 = ['DF_total_all','DF_total_whi','DF_total_baa','DF_total_aian',\n",
    "             'DF_total_aa','DF_total_nhop','DF_total_sor','DF_total_tom',\n",
    "             'DF_total_hol'\n",
    "             ]"
   ]
  },
  {
   "cell_type": "markdown",
   "metadata": {},
   "source": [
    "### Finding percent to total"
   ]
  },
  {
   "cell_type": "code",
   "execution_count": null,
   "metadata": {},
   "outputs": [],
   "source": [
    "# Iterate over the dictionary of dataframes\n",
    "for df_name, df in dfs.items():\n",
    "    if df_name in perc_df:\n",
    "        # Get the list of columns in the dataframe that match cols_int\n",
    "        columns = [col for col in df.columns if col in cols_int]\n",
    "        updated_columns = []\n",
    "\n",
    "        # Reset the index to consolidate memory layout\n",
    "        df.reset_index(drop=True, inplace=True)\n",
    "\n",
    "        # Calculate the percentage values for the new column\n",
    "        for col in columns:\n",
    "            new_col_name = f'{col}_perc'\n",
    "            updated_columns.extend([col, new_col_name])\n",
    "\n",
    "            df[new_col_name] = [0 if total == 0 else (value / total)\n",
    "                                for value, total in zip(df[col], df['Total'])]\n",
    "        # Append ['Location', 'State', 'County', 'FIPS'] to updated_columns\n",
    "        updated_columns.extend(['Total','Location', 'State', 'County', 'FIPS'])\n",
    "        # Reorder the columns in the dataframe\n",
    "        df = df[updated_columns]\n",
    "\n",
    "        # Update the dataframe in the 'dfs' dictionary\n",
    "        dfs[df_name] = df"
   ]
  },
  {
   "cell_type": "markdown",
   "metadata": {},
   "source": [
    "### Verifying"
   ]
  },
  {
   "cell_type": "code",
   "execution_count": 183,
   "metadata": {},
   "outputs": [
    {
     "name": "stdout",
     "output_type": "stream",
     "text": [
      "211\n",
      "['Under 1 Year', 'Under 1 Year_perc', '1 Year', '1 Year_perc', '2 Years', '2 Years_perc', '3 Years', '3 Years_perc', '4 Years', '4 Years_perc', '5 Years', '5 Years_perc', '6 Years', '6 Years_perc', '7 Years', '7 Years_perc', '8 Years', '8 Years_perc', '9 Years', '9 Years_perc', '10 Years', '10 Years_perc', '11 Years', '11 Years_perc', '12 Years', '12 Years_perc', '13 Years', '13 Years_perc', '14 Years', '14 Years_perc', '15 Years', '15 Years_perc', '16 Years', '16 Years_perc', '17 Years', '17 Years_perc', '18 Years', '18 Years_perc', '19 Years', '19 Years_perc', '20 Years', '20 Years_perc', '21 Years', '21 Years_perc', '22 Years', '22 Years_perc', '23 Years', '23 Years_perc', '24 Years', '24 Years_perc', '25 Years', '25 Years_perc', '26 Years', '26 Years_perc', '27 Years', '27 Years_perc', '28 Years', '28 Years_perc', '29 Years', '29 Years_perc', '30 Years', '30 Years_perc', '31 Years', '31 Years_perc', '32 Years', '32 Years_perc', '33 Years', '33 Years_perc', '34 Years', '34 Years_perc', '35 Years', '35 Years_perc', '36 Years', '36 Years_perc', '37 Years', '37 Years_perc', '38 Years', '38 Years_perc', '39 Years', '39 Years_perc', '40 Years', '40 Years_perc', '41 Years', '41 Years_perc', '42 Years', '42 Years_perc', '43 Years', '43 Years_perc', '44 Years', '44 Years_perc', '45 Years', '45 Years_perc', '46 Years', '46 Years_perc', '47 Years', '47 Years_perc', '48 Years', '48 Years_perc', '49 Years', '49 Years_perc', '50 Years', '50 Years_perc', '51 Years', '51 Years_perc', '52 Years', '52 Years_perc', '53 Years', '53 Years_perc', '54 Years', '54 Years_perc', '55 Years', '55 Years_perc', '56 Years', '56 Years_perc', '57 Years', '57 Years_perc', '58 Years', '58 Years_perc', '59 Years', '59 Years_perc', '60 Years', '60 Years_perc', '61 Years', '61 Years_perc', '62 Years', '62 Years_perc', '63 Years', '63 Years_perc', '64 Years', '64 Years_perc', '65 Years', '65 Years_perc', '66 Years', '66 Years_perc', '67 Years', '67 Years_perc', '68 Years', '68 Years_perc', '69 Years', '69 Years_perc', '70 Years', '70 Years_perc', '71 Years', '71 Years_perc', '72 Years', '72 Years_perc', '73 Years', '73 Years_perc', '74 Years', '74 Years_perc', '75 Years', '75 Years_perc', '76 Years', '76 Years_perc', '77 Years', '77 Years_perc', '78 Years', '78 Years_perc', '79 Years', '79 Years_perc', '80 Years', '80 Years_perc', '81 Years', '81 Years_perc', '82 Years', '82 Years_perc', '83 Years', '83 Years_perc', '84 Years', '84 Years_perc', '85 Years', '85 Years_perc', '86 Years', '86 Years_perc', '87 Years', '87 Years_perc', '88 Years', '88 Years_perc', '89 Years', '89 Years_perc', '90 Years', '90 Years_perc', '91 Years', '91 Years_perc', '92 Years', '92 Years_perc', '93 Years', '93 Years_perc', '94 Years', '94 Years_perc', '95 Years', '95 Years_perc', '96 Years', '96 Years_perc', '97  Years', '97  Years_perc', '98  Years', '98  Years_perc', '99  Years', '99  Years_perc', '100 to 104  Years', '100 to 104  Years_perc', '105 to 109  Years', '105 to 109  Years_perc', '110  Years and Over', '110  Years and Over_perc', 'Total', 'Location', 'State', 'County', 'FIPS']\n"
     ]
    }
   ],
   "source": [
    "# Print the list of columns\n",
    "print(len(dfs['DF_male_all'].columns.tolist()))\n",
    "print(dfs['DF_male_all'].columns.tolist())"
   ]
  },
  {
   "cell_type": "markdown",
   "metadata": {},
   "source": [
    "### Verifying dataframes after percent of total"
   ]
  },
  {
   "cell_type": "markdown",
   "metadata": {},
   "source": [
    "Print all the name and shape of the dataframes after percent of total"
   ]
  },
  {
   "cell_type": "code",
   "execution_count": 309,
   "metadata": {},
   "outputs": [
    {
     "name": "stdout",
     "output_type": "stream",
     "text": [
      "Data Frames in 'perc_df':\n"
     ]
    }
   ],
   "source": [
    "# Print the shape of the dataframes in 'dfs'\n",
    "print(\"Data Frames in 'perc_df':\")\n",
    "for df_name, df in dfs.items():\n",
    "    if df_name in perc_df:\n",
    "        print(\"Dataframe Name:\", df_name)\n",
    "        print(\"Shape:\", df.shape)\n",
    "        print(\"Columns:\", df.columns.tolist())"
   ]
  },
  {
   "cell_type": "markdown",
   "metadata": {},
   "source": [
    "## Preparing for weighted average"
   ]
  },
  {
   "cell_type": "markdown",
   "metadata": {},
   "source": [
    "Removing modified dataframes from dict dfs for further processing"
   ]
  },
  {
   "cell_type": "code",
   "execution_count": 308,
   "metadata": {},
   "outputs": [],
   "source": [
    "# Initialize the new dictionary 'dfs_perc'\n",
    "dfs_perc = {}\n",
    "\n",
    "# Iterate over the dataframe names in 'perc_df' list\n",
    "for df_name in perc_df:\n",
    "    # Check if the dataframe name exists in 'dfs' dictionary\n",
    "    if df_name in dfs:\n",
    "        # Move the matching dataframe from 'dfs' to 'dfs_perc'\n",
    "        dfs_perc[df_name] = dfs.pop(df_name)"
   ]
  },
  {
   "cell_type": "markdown",
   "metadata": {},
   "source": [
    "Printing list of both dataframe dictionaries to verify last step\n",
    "\n",
    "We should have 9 in dict 'dfs' and 18 in new dict 'perc_df'"
   ]
  },
  {
   "cell_type": "code",
   "execution_count": null,
   "metadata": {},
   "outputs": [],
   "source": [
    "print(\"Dictionary 'dfs':\")\n",
    "print(len(dfs.keys()))\n",
    "print(list(dfs.keys()))\n",
    "\n",
    "print(\"\\nDictionary 'perc_df':\")\n",
    "print(len(dfs_perc.keys()))\n",
    "print(list(dfs_perc.keys()))"
   ]
  },
  {
   "cell_type": "markdown",
   "metadata": {},
   "source": [
    "Dropping columns to new dict with corresponding dataframes"
   ]
  },
  {
   "cell_type": "code",
   "execution_count": null,
   "metadata": {},
   "outputs": [],
   "source": [
    "dropped_columns = ['Under 1 Year_perc','1 Year_perc','2 Years_perc',\n",
    "                  '3 Years_perc','4 Years_perc','5 Years_perc','6 Years_perc',\n",
    "                  '7 Years_perc','8 Years_perc','9 Years_perc','10 Years_perc',\n",
    "                  '11 Years_perc','12 Years_perc','13 Years_perc',\n",
    "                  '14 Years_perc','15 Years_perc','16 Years_perc',\n",
    "                  '17 Years_perc','18 Years_perc','19 Years_perc',\n",
    "                  '20 Years_perc','21 Years_perc','22 Years_perc',\n",
    "                  '23 Years_perc','24 Years_perc','25 Years_perc',\n",
    "                  '26 Years_perc','27 Years_perc','28 Years_perc',\n",
    "                  '29 Years_perc','30 Years_perc','31 Years_perc',\n",
    "                  '32 Years_perc','33 Years_perc','34 Years_perc',\n",
    "                  '35 Years_perc','36 Years_perc','37 Years_perc',\n",
    "                  '38 Years_perc','39 Years_perc','40 Years_perc',\n",
    "                  '41 Years_perc','42 Years_perc','43 Years_perc',\n",
    "                  '44 Years_perc','45 Years_perc','46 Years_perc',\n",
    "                  '47 Years_perc','48 Years_perc','49 Years_perc',\n",
    "                  '50 Years_perc','51 Years_perc','52 Years_perc',\n",
    "                  '53 Years_perc','54 Years_perc','55 Years_perc',\n",
    "                  '56 Years_perc','57 Years_perc','58 Years_perc',\n",
    "                  '59 Years_perc','60 Years_perc','61 Years_perc',\n",
    "                  '62 Years_perc','63 Years_perc','64 Years_perc',\n",
    "                  '65 Years_perc','66 Years_perc','67 Years_perc',\n",
    "                  '68 Years_perc','69 Years_perc','70 Years_perc',\n",
    "                  '71 Years_perc','72 Years_perc','73 Years_perc',\n",
    "                  '74 Years_perc','75 Years_perc','76 Years_perc',\n",
    "                  '77 Years_perc','78 Years_perc','79 Years_perc',\n",
    "                  '80 Years_perc','81 Years_perc','82 Years_perc',\n",
    "                  '83 Years_perc','84 Years_perc','85 Years_perc',\n",
    "                  '86 Years_perc','87 Years_perc','88 Years_perc',\n",
    "                  '89 Years_perc','90 Years_perc','91 Years_perc',\n",
    "                  '92 Years_perc','93 Years_perc','94 Years_perc',\n",
    "                  '95 Years_perc','96 Years_perc','97  Years_perc',\n",
    "                  '98  Years_perc','99  Years_perc','100 to 104  Years_perc',\n",
    "                  '105 to 109  Years_perc','110  Years and Over_perc','Total',\n",
    "                  'Location','State','County','FIPS'\n",
    "                  ]"
   ]
  },
  {
   "cell_type": "code",
   "execution_count": 291,
   "metadata": {},
   "outputs": [],
   "source": [
    "dropped_dropped_columns = {}\n",
    "\n",
    "# Iterate over the dataframes in 'dfs_perc'\n",
    "for df_name, df in dfs_perc.items():\n",
    "    # Store the dropped columns' data\n",
    "    dropped_dropped_columns[df_name] = df[dropped_columns]\n",
    "\n",
    "    # Drop the specified columns from each dataframe\n",
    "    dfs_perc[df_name] = df.drop(dropped_columns, axis=1)"
   ]
  },
  {
   "cell_type": "markdown",
   "metadata": {},
   "source": [
    "verifying operation"
   ]
  },
  {
   "cell_type": "code",
   "execution_count": null,
   "metadata": {},
   "outputs": [],
   "source": [
    "print(\"Dictionary 'dfs_perc':\")\n",
    "for df_name, df in dfs_perc.items():\n",
    "    print(f\"DataFrame '{df_name}' column names:\")\n",
    "    print(list(df.columns))\n",
    "\n",
    "print(\"\\nDictionary 'dropped_columns':\")\n",
    "for df_name, df in dropped_string_columns.items():\n",
    "    print(f\"DataFrame '{df_name}' column names:\")\n",
    "    print(list(df.columns))"
   ]
  },
  {
   "cell_type": "markdown",
   "metadata": {},
   "source": [
    "Creating variable for weight columns to be moved to new dataframes"
   ]
  },
  {
   "cell_type": "code",
   "execution_count": 292,
   "metadata": {},
   "outputs": [],
   "source": [
    "weight_columns = ['Under 1 Year_perc','1 Year_perc','2 Years_perc',\n",
    "                  '3 Years_perc','4 Years_perc','5 Years_perc','6 Years_perc',\n",
    "                  '7 Years_perc','8 Years_perc','9 Years_perc','10 Years_perc',\n",
    "                  '11 Years_perc','12 Years_perc','13 Years_perc',\n",
    "                  '14 Years_perc','15 Years_perc','16 Years_perc',\n",
    "                  '17 Years_perc','18 Years_perc','19 Years_perc',\n",
    "                  '20 Years_perc','21 Years_perc','22 Years_perc',\n",
    "                  '23 Years_perc','24 Years_perc','25 Years_perc',\n",
    "                  '26 Years_perc','27 Years_perc','28 Years_perc',\n",
    "                  '29 Years_perc','30 Years_perc','31 Years_perc',\n",
    "                  '32 Years_perc','33 Years_perc','34 Years_perc',\n",
    "                  '35 Years_perc','36 Years_perc','37 Years_perc',\n",
    "                  '38 Years_perc','39 Years_perc','40 Years_perc',\n",
    "                  '41 Years_perc','42 Years_perc','43 Years_perc',\n",
    "                  '44 Years_perc','45 Years_perc','46 Years_perc',\n",
    "                  '47 Years_perc','48 Years_perc','49 Years_perc',\n",
    "                  '50 Years_perc','51 Years_perc','52 Years_perc',\n",
    "                  '53 Years_perc','54 Years_perc','55 Years_perc',\n",
    "                  '56 Years_perc','57 Years_perc','58 Years_perc',\n",
    "                  '59 Years_perc','60 Years_perc','61 Years_perc',\n",
    "                  '62 Years_perc','63 Years_perc','64 Years_perc',\n",
    "                  '65 Years_perc','66 Years_perc','67 Years_perc',\n",
    "                  '68 Years_perc','69 Years_perc','70 Years_perc',\n",
    "                  '71 Years_perc','72 Years_perc','73 Years_perc',\n",
    "                  '74 Years_perc','75 Years_perc','76 Years_perc',\n",
    "                  '77 Years_perc','78 Years_perc','79 Years_perc',\n",
    "                  '80 Years_perc','81 Years_perc','82 Years_perc',\n",
    "                  '83 Years_perc','84 Years_perc','85 Years_perc',\n",
    "                  '86 Years_perc','87 Years_perc','88 Years_perc',\n",
    "                  '89 Years_perc','90 Years_perc','91 Years_perc',\n",
    "                  '92 Years_perc','93 Years_perc','94 Years_perc',\n",
    "                  '95 Years_perc','96 Years_perc','97  Years_perc',\n",
    "                  '98  Years_perc','99  Years_perc','100 to 104  Years_perc',\n",
    "                  '105 to 109  Years_perc','110  Years and Over_perc'\n",
    "                  ]"
   ]
  },
  {
   "cell_type": "markdown",
   "metadata": {},
   "source": [
    "building new dataframes from weight columns to be used for weight calc"
   ]
  },
  {
   "cell_type": "code",
   "execution_count": 293,
   "metadata": {},
   "outputs": [],
   "source": [
    "dropped_weight_columns = {}\n",
    "\n",
    "# Iterate over the dataframes in 'dfs_perc'\n",
    "for df_name, df in dfs_perc.items():\n",
    "    # Store the dropped columns' data\n",
    "    dropped_weight_columns[df_name] = df[weight_columns]\n",
    "\n",
    "    # Drop the specified columns from each dataframe\n",
    "    dfs_perc[df_name] = df.drop(weight_columns, axis=1)"
   ]
  },
  {
   "cell_type": "markdown",
   "metadata": {},
   "source": [
    "verifying operation"
   ]
  },
  {
   "cell_type": "code",
   "execution_count": null,
   "metadata": {},
   "outputs": [],
   "source": [
    "print(\"Dictionary 'dfs_perc':\")\n",
    "for df_name, df in dfs_perc.items():\n",
    "    print(f\"DataFrame '{df_name}' column names:\")\n",
    "    print(list(df.columns))\n",
    "\n",
    "print(\"\\nDictionary 'dropped_columns':\")\n",
    "for df_name, df in dropped_string_columns.items():\n",
    "    print(f\"DataFrame '{df_name}' column names:\")\n",
    "    print(list(df.columns))\n",
    "\n",
    "print(\"\\nDictionary 'dropped_weight_columns':\")\n",
    "for df_name, df in dropped_weight_columns.items():\n",
    "    print(f\"DataFrame '{df_name}' column names:\")\n",
    "    print(list(df.columns))"
   ]
  },
  {
   "cell_type": "markdown",
   "metadata": {},
   "source": [
    "Changing column names and types for dict 'dfs_perc'"
   ]
  },
  {
   "cell_type": "code",
   "execution_count": 294,
   "metadata": {},
   "outputs": [],
   "source": [
    "cols_int = ['Under 1 Year','1 Year','2 Years','3 Years','4 Years','5 Years',\n",
    "            '6 Years','7 Years','8 Years','9 Years','10 Years','11 Years',\n",
    "            '12 Years','13 Years','14 Years','15 Years','16 Years','17 Years',\n",
    "            '18 Years','19 Years','20 Years','21 Years','22 Years','23 Years',\n",
    "            '24 Years','25 Years','26 Years','27 Years','28 Years','29 Years',\n",
    "            '30 Years','31 Years','32 Years','33 Years','34 Years','35 Years',\n",
    "            '36 Years','37 Years','38 Years','39 Years','40 Years','41 Years',\n",
    "            '42 Years','43 Years','44 Years','45 Years','46 Years','47 Years',\n",
    "            '48 Years','49 Years','50 Years','51 Years','52 Years','53 Years',\n",
    "            '54 Years','55 Years','56 Years','57 Years','58 Years','59 Years',\n",
    "            '60 Years','61 Years','62 Years','63 Years','64 Years','65 Years',\n",
    "            '66 Years','67 Years','68 Years','69 Years','70 Years','71 Years',\n",
    "            '72 Years','73 Years','74 Years','75 Years','76 Years','77 Years',\n",
    "            '78 Years','79 Years','80 Years','81 Years','82 Years','83 Years',\n",
    "            '84 Years','85 Years','86 Years','87 Years','88 Years','89 Years',\n",
    "            '90 Years','91 Years','92 Years','93 Years','94 Years','95 Years',\n",
    "            '96 Years','97  Years','98  Years','99  Years','100 to 104  Years',\n",
    "            '105 to 109  Years','110  Years and Over'\n",
    "            ]\n",
    "cols_mod = [0,1,2,3,4,5,6,7,8,9,10,11,12,13,14,15,16,17,18,19,20,21,22,23,24,\n",
    "            25,26,27,28,29,30,31,32,33,34,35,36,37,38,39,40,41,42,43,44,45,46,\n",
    "            47,48,49,50,51,52,53,54,55,56,57,58,59,60,61,62,63,64,65,66,67,68,\n",
    "            69,70,71,72,73,74,75,76,77,78,79,80,81,82,83,84,85,86,87,88,89,90,\n",
    "            91,92,93,94,95,96,97,98,99,102,107,110\n",
    "            ] \n"
   ]
  },
  {
   "cell_type": "markdown",
   "metadata": {},
   "source": [
    "Changing column labels and type of columns in dataframes in dict 'dfs_perc'"
   ]
  },
  {
   "cell_type": "code",
   "execution_count": 295,
   "metadata": {},
   "outputs": [],
   "source": [
    "# Iterate over the dataframes in 'dfs_perc'\n",
    "for df_name, df in dfs_perc.items():\n",
    "    # Change the column names to the list of integers\n",
    "    df.columns = cols_mod\n",
    "    \n",
    "    # Convert the column type to integer\n",
    "    df[cols_mod] = df[cols_mod].astype(int)"
   ]
  },
  {
   "cell_type": "markdown",
   "metadata": {},
   "source": [
    "verify operation"
   ]
  },
  {
   "cell_type": "markdown",
   "metadata": {},
   "source": [
    "Changing column labels and type of columns in dataframes in dict 'dfs_perc'"
   ]
  },
  {
   "cell_type": "code",
   "execution_count": 296,
   "metadata": {},
   "outputs": [],
   "source": [
    "# # Iterate over the dataframes in 'dfs_perc'\n",
    "# for df_name, df in dropped_weight_columns.items():\n",
    "#     # Change the column names to the list of integers\n",
    "#     df.columns = cols_mod\n",
    "    \n",
    "#     # Convert the column type to integer\n",
    "#     df[cols_mod] = df[cols_mod].astype(int)"
   ]
  },
  {
   "cell_type": "markdown",
   "metadata": {},
   "source": [
    "verify operation"
   ]
  },
  {
   "cell_type": "code",
   "execution_count": null,
   "metadata": {},
   "outputs": [],
   "source": [
    "# Iterate over the dataframes in 'dfs_perc'\n",
    "for df_name, df in dropped_weight_columns.items():\n",
    "    print(f\"DataFrame '{df_name}' column names:\")\n",
    "    print(list(df.columns))\n",
    "    print(f\"DataFrame '{df_name}' column types:\")\n",
    "    print(df.dtypes)\n",
    "    print()"
   ]
  },
  {
   "cell_type": "markdown",
   "metadata": {},
   "source": [
    "### Building Weighted Average Column"
   ]
  },
  {
   "cell_type": "code",
   "execution_count": null,
   "metadata": {},
   "outputs": [],
   "source": [
    "# Iterate over each key-value pair in dfs_perc\n",
    "for df_name, df in dfs_perc.items():\n",
    "    # Get the column names as an array of integers\n",
    "    values = np.array(df.columns, dtype=int)\n",
    "\n",
    "    # Initialize an empty list to store the results\n",
    "    results = []\n",
    "\n",
    "    # Iterate over each row in the dataframe\n",
    "    for _, row in df.iterrows():\n",
    "        # Get the row entries as an array of integers\n",
    "        weights = np.array(row.values, dtype=int)\n",
    "\n",
    "        # Perform element-wise multiplication of values and weights\n",
    "        weighted_values = values * weights\n",
    "\n",
    "        # Sum the products of the multiplications\n",
    "        weighted_sum = np.sum(weighted_values)\n",
    "\n",
    "        # Sum all items in the weights array\n",
    "        weights_sum = np.sum(weights)\n",
    "\n",
    "        # Calculate the weighted average\n",
    "        weighted_average = weighted_sum / weights_sum\n",
    "\n",
    "        # Append the weighted average to the results list\n",
    "        results.append(weighted_average)\n",
    "\n",
    "    # Add the 'Average_Age' column to the dataframe\n",
    "    df['Average_Age'] = results\n",
    "\n",
    "    # Reset the index of the dataframe\n",
    "    df.reset_index(drop=True, inplace=True)"
   ]
  },
  {
   "cell_type": "markdown",
   "metadata": {},
   "source": [
    "verifying output to dataframes in dictionary 'weighted_averages'"
   ]
  },
  {
   "cell_type": "code",
   "execution_count": 298,
   "metadata": {},
   "outputs": [
    {
     "name": "stdout",
     "output_type": "stream",
     "text": [
      "DataFrame 'DF_male_all' column names:\n",
      "[0, 1, 2, 3, 4, 5, 6, 7, 8, 9, 10, 11, 12, 13, 14, 15, 16, 17, 18, 19, 20, 21, 22, 23, 24, 25, 26, 27, 28, 29, 30, 31, 32, 33, 34, 35, 36, 37, 38, 39, 40, 41, 42, 43, 44, 45, 46, 47, 48, 49, 50, 51, 52, 53, 54, 55, 56, 57, 58, 59, 60, 61, 62, 63, 64, 65, 66, 67, 68, 69, 70, 71, 72, 73, 74, 75, 76, 77, 78, 79, 80, 81, 82, 83, 84, 85, 86, 87, 88, 89, 90, 91, 92, 93, 94, 95, 96, 97, 98, 99, 102, 107, 110, 'Average_Age']\n",
      "\n",
      "DataFrame 'DF_female_all' column names:\n",
      "[0, 1, 2, 3, 4, 5, 6, 7, 8, 9, 10, 11, 12, 13, 14, 15, 16, 17, 18, 19, 20, 21, 22, 23, 24, 25, 26, 27, 28, 29, 30, 31, 32, 33, 34, 35, 36, 37, 38, 39, 40, 41, 42, 43, 44, 45, 46, 47, 48, 49, 50, 51, 52, 53, 54, 55, 56, 57, 58, 59, 60, 61, 62, 63, 64, 65, 66, 67, 68, 69, 70, 71, 72, 73, 74, 75, 76, 77, 78, 79, 80, 81, 82, 83, 84, 85, 86, 87, 88, 89, 90, 91, 92, 93, 94, 95, 96, 97, 98, 99, 102, 107, 110, 'Average_Age']\n",
      "\n",
      "DataFrame 'DF_total_male_whi' column names:\n",
      "[0, 1, 2, 3, 4, 5, 6, 7, 8, 9, 10, 11, 12, 13, 14, 15, 16, 17, 18, 19, 20, 21, 22, 23, 24, 25, 26, 27, 28, 29, 30, 31, 32, 33, 34, 35, 36, 37, 38, 39, 40, 41, 42, 43, 44, 45, 46, 47, 48, 49, 50, 51, 52, 53, 54, 55, 56, 57, 58, 59, 60, 61, 62, 63, 64, 65, 66, 67, 68, 69, 70, 71, 72, 73, 74, 75, 76, 77, 78, 79, 80, 81, 82, 83, 84, 85, 86, 87, 88, 89, 90, 91, 92, 93, 94, 95, 96, 97, 98, 99, 102, 107, 110, 'Average_Age']\n",
      "\n",
      "DataFrame 'DF_total_female_whi' column names:\n",
      "[0, 1, 2, 3, 4, 5, 6, 7, 8, 9, 10, 11, 12, 13, 14, 15, 16, 17, 18, 19, 20, 21, 22, 23, 24, 25, 26, 27, 28, 29, 30, 31, 32, 33, 34, 35, 36, 37, 38, 39, 40, 41, 42, 43, 44, 45, 46, 47, 48, 49, 50, 51, 52, 53, 54, 55, 56, 57, 58, 59, 60, 61, 62, 63, 64, 65, 66, 67, 68, 69, 70, 71, 72, 73, 74, 75, 76, 77, 78, 79, 80, 81, 82, 83, 84, 85, 86, 87, 88, 89, 90, 91, 92, 93, 94, 95, 96, 97, 98, 99, 102, 107, 110, 'Average_Age']\n",
      "\n",
      "DataFrame 'DF_total_male_baa' column names:\n",
      "[0, 1, 2, 3, 4, 5, 6, 7, 8, 9, 10, 11, 12, 13, 14, 15, 16, 17, 18, 19, 20, 21, 22, 23, 24, 25, 26, 27, 28, 29, 30, 31, 32, 33, 34, 35, 36, 37, 38, 39, 40, 41, 42, 43, 44, 45, 46, 47, 48, 49, 50, 51, 52, 53, 54, 55, 56, 57, 58, 59, 60, 61, 62, 63, 64, 65, 66, 67, 68, 69, 70, 71, 72, 73, 74, 75, 76, 77, 78, 79, 80, 81, 82, 83, 84, 85, 86, 87, 88, 89, 90, 91, 92, 93, 94, 95, 96, 97, 98, 99, 102, 107, 110, 'Average_Age']\n",
      "\n",
      "DataFrame 'DF_total_female_baa' column names:\n",
      "[0, 1, 2, 3, 4, 5, 6, 7, 8, 9, 10, 11, 12, 13, 14, 15, 16, 17, 18, 19, 20, 21, 22, 23, 24, 25, 26, 27, 28, 29, 30, 31, 32, 33, 34, 35, 36, 37, 38, 39, 40, 41, 42, 43, 44, 45, 46, 47, 48, 49, 50, 51, 52, 53, 54, 55, 56, 57, 58, 59, 60, 61, 62, 63, 64, 65, 66, 67, 68, 69, 70, 71, 72, 73, 74, 75, 76, 77, 78, 79, 80, 81, 82, 83, 84, 85, 86, 87, 88, 89, 90, 91, 92, 93, 94, 95, 96, 97, 98, 99, 102, 107, 110, 'Average_Age']\n",
      "\n",
      "DataFrame 'DF_total_male_aian' column names:\n",
      "[0, 1, 2, 3, 4, 5, 6, 7, 8, 9, 10, 11, 12, 13, 14, 15, 16, 17, 18, 19, 20, 21, 22, 23, 24, 25, 26, 27, 28, 29, 30, 31, 32, 33, 34, 35, 36, 37, 38, 39, 40, 41, 42, 43, 44, 45, 46, 47, 48, 49, 50, 51, 52, 53, 54, 55, 56, 57, 58, 59, 60, 61, 62, 63, 64, 65, 66, 67, 68, 69, 70, 71, 72, 73, 74, 75, 76, 77, 78, 79, 80, 81, 82, 83, 84, 85, 86, 87, 88, 89, 90, 91, 92, 93, 94, 95, 96, 97, 98, 99, 102, 107, 110, 'Average_Age']\n",
      "\n",
      "DataFrame 'DF_total_female_aian' column names:\n",
      "[0, 1, 2, 3, 4, 5, 6, 7, 8, 9, 10, 11, 12, 13, 14, 15, 16, 17, 18, 19, 20, 21, 22, 23, 24, 25, 26, 27, 28, 29, 30, 31, 32, 33, 34, 35, 36, 37, 38, 39, 40, 41, 42, 43, 44, 45, 46, 47, 48, 49, 50, 51, 52, 53, 54, 55, 56, 57, 58, 59, 60, 61, 62, 63, 64, 65, 66, 67, 68, 69, 70, 71, 72, 73, 74, 75, 76, 77, 78, 79, 80, 81, 82, 83, 84, 85, 86, 87, 88, 89, 90, 91, 92, 93, 94, 95, 96, 97, 98, 99, 102, 107, 110, 'Average_Age']\n",
      "\n",
      "DataFrame 'DF_total_male_aa' column names:\n",
      "[0, 1, 2, 3, 4, 5, 6, 7, 8, 9, 10, 11, 12, 13, 14, 15, 16, 17, 18, 19, 20, 21, 22, 23, 24, 25, 26, 27, 28, 29, 30, 31, 32, 33, 34, 35, 36, 37, 38, 39, 40, 41, 42, 43, 44, 45, 46, 47, 48, 49, 50, 51, 52, 53, 54, 55, 56, 57, 58, 59, 60, 61, 62, 63, 64, 65, 66, 67, 68, 69, 70, 71, 72, 73, 74, 75, 76, 77, 78, 79, 80, 81, 82, 83, 84, 85, 86, 87, 88, 89, 90, 91, 92, 93, 94, 95, 96, 97, 98, 99, 102, 107, 110, 'Average_Age']\n",
      "\n",
      "DataFrame 'DF_total_female_aa' column names:\n",
      "[0, 1, 2, 3, 4, 5, 6, 7, 8, 9, 10, 11, 12, 13, 14, 15, 16, 17, 18, 19, 20, 21, 22, 23, 24, 25, 26, 27, 28, 29, 30, 31, 32, 33, 34, 35, 36, 37, 38, 39, 40, 41, 42, 43, 44, 45, 46, 47, 48, 49, 50, 51, 52, 53, 54, 55, 56, 57, 58, 59, 60, 61, 62, 63, 64, 65, 66, 67, 68, 69, 70, 71, 72, 73, 74, 75, 76, 77, 78, 79, 80, 81, 82, 83, 84, 85, 86, 87, 88, 89, 90, 91, 92, 93, 94, 95, 96, 97, 98, 99, 102, 107, 110, 'Average_Age']\n",
      "\n",
      "DataFrame 'DF_total_male_nhop' column names:\n",
      "[0, 1, 2, 3, 4, 5, 6, 7, 8, 9, 10, 11, 12, 13, 14, 15, 16, 17, 18, 19, 20, 21, 22, 23, 24, 25, 26, 27, 28, 29, 30, 31, 32, 33, 34, 35, 36, 37, 38, 39, 40, 41, 42, 43, 44, 45, 46, 47, 48, 49, 50, 51, 52, 53, 54, 55, 56, 57, 58, 59, 60, 61, 62, 63, 64, 65, 66, 67, 68, 69, 70, 71, 72, 73, 74, 75, 76, 77, 78, 79, 80, 81, 82, 83, 84, 85, 86, 87, 88, 89, 90, 91, 92, 93, 94, 95, 96, 97, 98, 99, 102, 107, 110, 'Average_Age']\n",
      "\n",
      "DataFrame 'DF_total_female_nhop' column names:\n",
      "[0, 1, 2, 3, 4, 5, 6, 7, 8, 9, 10, 11, 12, 13, 14, 15, 16, 17, 18, 19, 20, 21, 22, 23, 24, 25, 26, 27, 28, 29, 30, 31, 32, 33, 34, 35, 36, 37, 38, 39, 40, 41, 42, 43, 44, 45, 46, 47, 48, 49, 50, 51, 52, 53, 54, 55, 56, 57, 58, 59, 60, 61, 62, 63, 64, 65, 66, 67, 68, 69, 70, 71, 72, 73, 74, 75, 76, 77, 78, 79, 80, 81, 82, 83, 84, 85, 86, 87, 88, 89, 90, 91, 92, 93, 94, 95, 96, 97, 98, 99, 102, 107, 110, 'Average_Age']\n",
      "\n",
      "DataFrame 'DF_total_male_sor' column names:\n",
      "[0, 1, 2, 3, 4, 5, 6, 7, 8, 9, 10, 11, 12, 13, 14, 15, 16, 17, 18, 19, 20, 21, 22, 23, 24, 25, 26, 27, 28, 29, 30, 31, 32, 33, 34, 35, 36, 37, 38, 39, 40, 41, 42, 43, 44, 45, 46, 47, 48, 49, 50, 51, 52, 53, 54, 55, 56, 57, 58, 59, 60, 61, 62, 63, 64, 65, 66, 67, 68, 69, 70, 71, 72, 73, 74, 75, 76, 77, 78, 79, 80, 81, 82, 83, 84, 85, 86, 87, 88, 89, 90, 91, 92, 93, 94, 95, 96, 97, 98, 99, 102, 107, 110, 'Average_Age']\n",
      "\n",
      "DataFrame 'DF_total_female_sor' column names:\n",
      "[0, 1, 2, 3, 4, 5, 6, 7, 8, 9, 10, 11, 12, 13, 14, 15, 16, 17, 18, 19, 20, 21, 22, 23, 24, 25, 26, 27, 28, 29, 30, 31, 32, 33, 34, 35, 36, 37, 38, 39, 40, 41, 42, 43, 44, 45, 46, 47, 48, 49, 50, 51, 52, 53, 54, 55, 56, 57, 58, 59, 60, 61, 62, 63, 64, 65, 66, 67, 68, 69, 70, 71, 72, 73, 74, 75, 76, 77, 78, 79, 80, 81, 82, 83, 84, 85, 86, 87, 88, 89, 90, 91, 92, 93, 94, 95, 96, 97, 98, 99, 102, 107, 110, 'Average_Age']\n",
      "\n",
      "DataFrame 'DF_total_male_tom' column names:\n",
      "[0, 1, 2, 3, 4, 5, 6, 7, 8, 9, 10, 11, 12, 13, 14, 15, 16, 17, 18, 19, 20, 21, 22, 23, 24, 25, 26, 27, 28, 29, 30, 31, 32, 33, 34, 35, 36, 37, 38, 39, 40, 41, 42, 43, 44, 45, 46, 47, 48, 49, 50, 51, 52, 53, 54, 55, 56, 57, 58, 59, 60, 61, 62, 63, 64, 65, 66, 67, 68, 69, 70, 71, 72, 73, 74, 75, 76, 77, 78, 79, 80, 81, 82, 83, 84, 85, 86, 87, 88, 89, 90, 91, 92, 93, 94, 95, 96, 97, 98, 99, 102, 107, 110, 'Average_Age']\n",
      "\n",
      "DataFrame 'DF_total_female_tom' column names:\n",
      "[0, 1, 2, 3, 4, 5, 6, 7, 8, 9, 10, 11, 12, 13, 14, 15, 16, 17, 18, 19, 20, 21, 22, 23, 24, 25, 26, 27, 28, 29, 30, 31, 32, 33, 34, 35, 36, 37, 38, 39, 40, 41, 42, 43, 44, 45, 46, 47, 48, 49, 50, 51, 52, 53, 54, 55, 56, 57, 58, 59, 60, 61, 62, 63, 64, 65, 66, 67, 68, 69, 70, 71, 72, 73, 74, 75, 76, 77, 78, 79, 80, 81, 82, 83, 84, 85, 86, 87, 88, 89, 90, 91, 92, 93, 94, 95, 96, 97, 98, 99, 102, 107, 110, 'Average_Age']\n",
      "\n",
      "DataFrame 'DF_total_male_hol' column names:\n",
      "[0, 1, 2, 3, 4, 5, 6, 7, 8, 9, 10, 11, 12, 13, 14, 15, 16, 17, 18, 19, 20, 21, 22, 23, 24, 25, 26, 27, 28, 29, 30, 31, 32, 33, 34, 35, 36, 37, 38, 39, 40, 41, 42, 43, 44, 45, 46, 47, 48, 49, 50, 51, 52, 53, 54, 55, 56, 57, 58, 59, 60, 61, 62, 63, 64, 65, 66, 67, 68, 69, 70, 71, 72, 73, 74, 75, 76, 77, 78, 79, 80, 81, 82, 83, 84, 85, 86, 87, 88, 89, 90, 91, 92, 93, 94, 95, 96, 97, 98, 99, 102, 107, 110, 'Average_Age']\n",
      "\n",
      "DataFrame 'DF_total_female_hol' column names:\n",
      "[0, 1, 2, 3, 4, 5, 6, 7, 8, 9, 10, 11, 12, 13, 14, 15, 16, 17, 18, 19, 20, 21, 22, 23, 24, 25, 26, 27, 28, 29, 30, 31, 32, 33, 34, 35, 36, 37, 38, 39, 40, 41, 42, 43, 44, 45, 46, 47, 48, 49, 50, 51, 52, 53, 54, 55, 56, 57, 58, 59, 60, 61, 62, 63, 64, 65, 66, 67, 68, 69, 70, 71, 72, 73, 74, 75, 76, 77, 78, 79, 80, 81, 82, 83, 84, 85, 86, 87, 88, 89, 90, 91, 92, 93, 94, 95, 96, 97, 98, 99, 102, 107, 110, 'Average_Age']\n",
      "\n"
     ]
    }
   ],
   "source": [
    "# Iterate over the dictionaries in 'dropped_string_columns'\n",
    "for df_name, df_dict in dfs_perc.items():\n",
    "    print(f\"DataFrame '{df_name}' column names:\")\n",
    "    print(list(df_dict.keys()))\n",
    "    print()"
   ]
  },
  {
   "cell_type": "markdown",
   "metadata": {},
   "source": [
    "verifying values in column of specific dataframe in 'dfs_perc'"
   ]
  },
  {
   "cell_type": "code",
   "execution_count": 299,
   "metadata": {},
   "outputs": [
    {
     "name": "stdout",
     "output_type": "stream",
     "text": [
      "DataFrame 'DF_male_all':\n",
      "        0    1    2    3    4    5    6    7    8    9  ...  94  95  96  97  \\\n",
      "0     437  450  511  484  513  525  576  559  549  564  ...   6   8   3   3   \n",
      "1      70   70   84   91   80   90  116   67   97   81  ...   0   2   0   0   \n",
      "2      72   80   83   60   82   78   69   84   67   90  ...   3   1   4   3   \n",
      "3     157  203  182  171  192  161  202  186  158  184  ...   4   7   0   4   \n",
      "4      64   51   65   60   62   79   85   71   76   71  ...   2   0   2   0   \n",
      "...   ...  ...  ...  ...  ...  ...  ...  ...  ...  ...  ...  ..  ..  ..  ..   \n",
      "3216   98   86  120  100  109  120  115   96  114   96  ...   3   2   4   0   \n",
      "3217  183  124  170  184  175  185  185  160  188  197  ...   5   5   2   1   \n",
      "3218  190  218  223  195  287  247  211  223  237  185  ...  26   6   3   6   \n",
      "3219   20   10    4   14    9   10   16   17   18   11  ...   0   0   0   0   \n",
      "3220  593  582  669  639  691  704  658  650  687  618  ...  13   5   3   9   \n",
      "\n",
      "      98  99  102  107  110  Average_Age  \n",
      "0      1   0    0    0    0    38.518476  \n",
      "1      0   0    0    0    0    39.192103  \n",
      "2      1   0    1    2    0    40.734192  \n",
      "3      0   0    0    0    0    38.858371  \n",
      "4      0   0    1    1    0    40.306536  \n",
      "...   ..  ..  ...  ...  ...          ...  \n",
      "3216   3   1    1    0    1    39.908089  \n",
      "3217   1   0    1    0    0    39.505269  \n",
      "3218   4   2    5    0    0    37.824757  \n",
      "3219   0   0    1    0    0    37.842043  \n",
      "3220   1   0    4    0    0    37.557007  \n",
      "\n",
      "[3221 rows x 104 columns]\n"
     ]
    }
   ],
   "source": [
    "# Check if 'DF_male_all' exists in 'dfs_perc' dictionary\n",
    "if 'DF_male_all' in dfs_perc:\n",
    "    print(\"DataFrame 'DF_male_all':\")\n",
    "    print(dfs_perc['DF_male_all'])\n",
    "else:\n",
    "    print(\"DataFrame 'DF_male_all' does not exist in 'dfs_perc' dictionary.\")"
   ]
  },
  {
   "cell_type": "code",
   "execution_count": null,
   "metadata": {},
   "outputs": [],
   "source": []
  }
 ],
 "metadata": {
  "kernelspec": {
   "display_name": ".venv",
   "language": "python",
   "name": "python3"
  },
  "language_info": {
   "codemirror_mode": {
    "name": "ipython",
    "version": 3
   },
   "file_extension": ".py",
   "mimetype": "text/x-python",
   "name": "python",
   "nbconvert_exporter": "python",
   "pygments_lexer": "ipython3",
   "version": "3.11.1"
  },
  "orig_nbformat": 4
 },
 "nbformat": 4,
 "nbformat_minor": 2
}
