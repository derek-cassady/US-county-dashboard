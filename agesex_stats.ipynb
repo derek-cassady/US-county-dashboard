{
 "cells": [
  {
   "cell_type": "markdown",
   "metadata": {},
   "source": [
    "# Age & Sex Statistics"
   ]
  },
  {
   "cell_type": "markdown",
   "metadata": {},
   "source": [
    "## Import Needed Libraries"
   ]
  },
  {
   "cell_type": "code",
   "execution_count": 120,
   "metadata": {},
   "outputs": [],
   "source": [
    "import pandas as pd\n",
    "from openpyxl import workbook, load_workbook\n",
    "from openpyxl.utils.dataframe import dataframe_to_rows\n",
    "import numpy as np\n",
    "import os\n",
    "import math"
   ]
  },
  {
   "cell_type": "markdown",
   "metadata": {},
   "source": [
    "## Loading file to dataframes"
   ]
  },
  {
   "cell_type": "markdown",
   "metadata": {},
   "source": [
    "List of dataframes and their proper order"
   ]
  },
  {
   "cell_type": "code",
   "execution_count": 121,
   "metadata": {},
   "outputs": [],
   "source": [
    "# Creating ordered list of DFs to name each sheet coming in from workbook\n",
    "df_names = ['DF_total_all','DF_male_all','DF_female_all','DF_total_whi',\n",
    "            'DF_total_male_whi','DF_total_female_whi','DF_total_baa',\n",
    "            'DF_total_male_baa','DF_total_female_baa','DF_total_aian',\n",
    "            'DF_total_male_aian','DF_total_female_aian','DF_total_aa',\n",
    "            'DF_total_male_aa','DF_total_female_aa','DF_total_nhop',\n",
    "            'DF_total_male_nhop','DF_total_female_nhop','DF_total_sor',\n",
    "            'DF_total_male_sor','DF_total_female_sor','DF_total_tom',\n",
    "            'DF_total_male_tom','DF_total_female_tom','DF_total_hol',\n",
    "            'DF_total_male_hol','DF_total_female_hol'\n",
    "            ]"
   ]
  },
  {
   "cell_type": "markdown",
   "metadata": {},
   "source": [
    "### Variables for column names and type"
   ]
  },
  {
   "cell_type": "code",
   "execution_count": 122,
   "metadata": {},
   "outputs": [],
   "source": [
    "cols_int = ['Under 1 Year','1 Year','2 Years','3 Years','4 Years','5 Years',\n",
    "            '6 Years','7 Years','8 Years','9 Years','10 Years','11 Years',\n",
    "            '12 Years','13 Years','14 Years','15 Years','16 Years','17 Years',\n",
    "            '18 Years','19 Years','20 Years','21 Years','22 Years','23 Years',\n",
    "            '24 Years','25 Years','26 Years','27 Years','28 Years','29 Years',\n",
    "            '30 Years','31 Years','32 Years','33 Years','34 Years','35 Years',\n",
    "            '36 Years','37 Years','38 Years','39 Years','40 Years','41 Years',\n",
    "            '42 Years','43 Years','44 Years','45 Years','46 Years','47 Years',\n",
    "            '48 Years','49 Years','50 Years','51 Years','52 Years','53 Years',\n",
    "            '54 Years','55 Years','56 Years','57 Years','58 Years','59 Years',\n",
    "            '60 Years','61 Years','62 Years','63 Years','64 Years','65 Years',\n",
    "            '66 Years','67 Years','68 Years','69 Years','70 Years','71 Years',\n",
    "            '72 Years','73 Years','74 Years','75 Years','76 Years','77 Years',\n",
    "            '78 Years','79 Years','80 Years','81 Years','82 Years','83 Years',\n",
    "            '84 Years','85 Years','86 Years','87 Years','88 Years','89 Years',\n",
    "            '90 Years','91 Years','92 Years','93 Years','94 Years','95 Years',\n",
    "            '96 Years','97  Years','98  Years','99  Years','100 to 104  Years',\n",
    "            '105 to 109  Years','110  Years and Over'\n",
    "            ]\n",
    "\n",
    "cols_str = ['Location', 'State', 'County', 'FIPS']"
   ]
  },
  {
   "cell_type": "markdown",
   "metadata": {},
   "source": [
    "### Loading process"
   ]
  },
  {
   "cell_type": "code",
   "execution_count": 123,
   "metadata": {},
   "outputs": [],
   "source": [
    "# Dictionary to store the dataframes\n",
    "dfs = {}\n",
    "\n",
    "# Get the path of the current working directory\n",
    "cwd = os.getcwd()\n",
    "\n",
    "# Construct the full path to the .xlsx file\n",
    "file_path = os.path.join(cwd, '2020_agesex_data.xlsx')\n",
    "\n",
    "# Load each sheet of the .xlsx file into a named dataframe\n",
    "for name in df_names:\n",
    "    df = pd.read_excel(file_path, sheet_name=name, header=None)  # Specify header=None to treat the first row as data\n",
    "    df.columns = df.iloc[0]  # Set the first row as the column headers\n",
    "    df = df[1:]  # Exclude the first row from the data\n",
    "    df.reset_index(drop=True, inplace=True)  # Reset the index\n",
    "    \n",
    "    # Change column types based on column names\n",
    "    for column in cols_int:\n",
    "        if column in df.columns:\n",
    "            df[column] = df[column].astype(int)\n",
    "    \n",
    "    for column in cols_str:\n",
    "        if column in df.columns:\n",
    "            df[column] = df[column].astype(str)\n",
    "    \n",
    "    dfs[name] = df"
   ]
  },
  {
   "cell_type": "markdown",
   "metadata": {},
   "source": [
    "### Verifying"
   ]
  },
  {
   "cell_type": "markdown",
   "metadata": {},
   "source": [
    "Print all the names, shapes, and dtypes of the dataframes loaded in"
   ]
  },
  {
   "cell_type": "code",
   "execution_count": null,
   "metadata": {},
   "outputs": [],
   "source": [
    "# # Print the names, shapes, and dtypes of the dataframes in 'dfs'\n",
    "# print(\"Data Frames in 'dfs':\")\n",
    "# for name, df in dfs.items():\n",
    "#     print(name)\n",
    "#     print(\"Shape:\", df.shape)\n",
    "#     print(\"Dtypes:\")\n",
    "#     for column, dtype in df.dtypes.items():\n",
    "#         print(f\"{column}: {dtype}\")\n",
    "#     print()"
   ]
  },
  {
   "cell_type": "markdown",
   "metadata": {},
   "source": [
    "## Building Percent to Total column\n",
    "Percent to total for male & female age groups"
   ]
  },
  {
   "cell_type": "markdown",
   "metadata": {},
   "source": [
    "### Grouping Dataframes with like structures"
   ]
  },
  {
   "cell_type": "code",
   "execution_count": null,
   "metadata": {},
   "outputs": [],
   "source": [
    "perc_df = ['DF_male_all','DF_female_all','DF_total_male_whi',\n",
    "             'DF_total_female_whi','DF_total_male_baa','DF_total_female_baa',\n",
    "             'DF_total_male_aian','DF_total_female_aian','DF_total_male_aa',\n",
    "             'DF_total_female_aa','DF_total_male_nhop','DF_total_female_nhop',\n",
    "             'DF_total_male_sor','DF_total_female_sor','DF_total_male_tom',\n",
    "             'DF_total_female_tom','DF_total_male_hol','DF_total_female_hol'\n",
    "             ]\n",
    "\n",
    "perc_df_2 = ['DF_total_all','DF_total_whi','DF_total_baa','DF_total_aian',\n",
    "             'DF_total_aa','DF_total_nhop','DF_total_sor','DF_total_tom',\n",
    "             'DF_total_hol'\n",
    "             ]"
   ]
  },
  {
   "cell_type": "markdown",
   "metadata": {},
   "source": [
    "### Percent to total process"
   ]
  },
  {
   "cell_type": "code",
   "execution_count": null,
   "metadata": {},
   "outputs": [],
   "source": [
    "# Iterate over the dictionary of dataframes\n",
    "for df_name, df in dfs.items():\n",
    "    if df_name in perc_df:\n",
    "        # Get the list of columns in the dataframe that match cols_int\n",
    "        columns = [col for col in df.columns if col in cols_int]\n",
    "        updated_columns = []\n",
    "\n",
    "        # Reset the index to consolidate memory layout\n",
    "        df.reset_index(drop=True, inplace=True)\n",
    "\n",
    "        # Calculate the percentage values for the new column\n",
    "        for col in columns:\n",
    "            new_col_name = f'{col}_perc'\n",
    "            updated_columns.extend([col, new_col_name])\n",
    "\n",
    "            df[new_col_name] = [0 if total == 0 else (value / total)\n",
    "                                for value, total in zip(df[col], df['Total'])]\n",
    "        # Append ['Location', 'State', 'County', 'FIPS'] to updated_columns\n",
    "        updated_columns.extend(['Total','Location', 'State', 'County', 'FIPS'])\n",
    "        # Reorder the columns in the dataframe\n",
    "        df = df[updated_columns]\n",
    "\n",
    "        # Update the dataframe in the 'dfs' dictionary\n",
    "        dfs[df_name] = df"
   ]
  },
  {
   "cell_type": "markdown",
   "metadata": {},
   "source": [
    "### Verifying"
   ]
  },
  {
   "cell_type": "markdown",
   "metadata": {},
   "source": [
    "Print all the name,shape,# of cols, col names of the dataframes"
   ]
  },
  {
   "cell_type": "code",
   "execution_count": null,
   "metadata": {},
   "outputs": [],
   "source": [
    "# # Print the shape of the dataframes in 'dfs'\n",
    "# print(\"Data Frames in 'perc_df':\")\n",
    "# for df_name, df in dfs.items():\n",
    "#     if df_name in perc_df:\n",
    "#         print(\"Dataframe Name:\", df_name)\n",
    "#         print(\"Shape:\", df.shape)\n",
    "#         print(f\"Number of Columns: {len(df.columns)}\")\n",
    "#         print(\"Columns:\", df.columns.tolist())"
   ]
  },
  {
   "cell_type": "markdown",
   "metadata": {},
   "source": [
    "## Building Weighted Average Column for'perc_df' listed dfs"
   ]
  },
  {
   "cell_type": "markdown",
   "metadata": {},
   "source": [
    "Removing modified dataframes from dict dfs for further processing"
   ]
  },
  {
   "cell_type": "code",
   "execution_count": null,
   "metadata": {},
   "outputs": [],
   "source": [
    "# Initialize the new dictionary 'dfs_perc'\n",
    "dfs_perc = {}\n",
    "\n",
    "# Iterate over the dataframe names in 'perc_df' list\n",
    "for df_name in perc_df:\n",
    "    # Check if the dataframe name exists in 'dfs' dictionary\n",
    "    if df_name in dfs:\n",
    "        # Move the matching dataframe from 'dfs' to 'dfs_perc'\n",
    "        dfs_perc[df_name] = dfs.pop(df_name)"
   ]
  },
  {
   "cell_type": "markdown",
   "metadata": {},
   "source": [
    "### Verifying"
   ]
  },
  {
   "cell_type": "code",
   "execution_count": null,
   "metadata": {},
   "outputs": [],
   "source": [
    "# # Printing list of both dataframe dictionaries to verify last step\n",
    "\n",
    "# # We should have 9 in dict 'dfs' and 18 in new dict 'perc_df'\n",
    "\n",
    "# print(\"Dictionary 'dfs':\")\n",
    "# print(len(dfs.keys()))\n",
    "# print(list(dfs.keys()))\n",
    "\n",
    "# print(\"\\nDictionary 'perc_df':\")\n",
    "# print(len(dfs_perc.keys()))\n",
    "# print(list(dfs_perc.keys()))"
   ]
  },
  {
   "cell_type": "markdown",
   "metadata": {},
   "source": [
    "### Variables for columns to drop to new dictionary"
   ]
  },
  {
   "cell_type": "code",
   "execution_count": null,
   "metadata": {},
   "outputs": [],
   "source": [
    "columns_to_drop = ['Under 1 Year_perc','1 Year_perc','2 Years_perc',\n",
    "                  '3 Years_perc','4 Years_perc','5 Years_perc','6 Years_perc',\n",
    "                  '7 Years_perc','8 Years_perc','9 Years_perc','10 Years_perc',\n",
    "                  '11 Years_perc','12 Years_perc','13 Years_perc',\n",
    "                  '14 Years_perc','15 Years_perc','16 Years_perc',\n",
    "                  '17 Years_perc','18 Years_perc','19 Years_perc',\n",
    "                  '20 Years_perc','21 Years_perc','22 Years_perc',\n",
    "                  '23 Years_perc','24 Years_perc','25 Years_perc',\n",
    "                  '26 Years_perc','27 Years_perc','28 Years_perc',\n",
    "                  '29 Years_perc','30 Years_perc','31 Years_perc',\n",
    "                  '32 Years_perc','33 Years_perc','34 Years_perc',\n",
    "                  '35 Years_perc','36 Years_perc','37 Years_perc',\n",
    "                  '38 Years_perc','39 Years_perc','40 Years_perc',\n",
    "                  '41 Years_perc','42 Years_perc','43 Years_perc',\n",
    "                  '44 Years_perc','45 Years_perc','46 Years_perc',\n",
    "                  '47 Years_perc','48 Years_perc','49 Years_perc',\n",
    "                  '50 Years_perc','51 Years_perc','52 Years_perc',\n",
    "                  '53 Years_perc','54 Years_perc','55 Years_perc',\n",
    "                  '56 Years_perc','57 Years_perc','58 Years_perc',\n",
    "                  '59 Years_perc','60 Years_perc','61 Years_perc',\n",
    "                  '62 Years_perc','63 Years_perc','64 Years_perc',\n",
    "                  '65 Years_perc','66 Years_perc','67 Years_perc',\n",
    "                  '68 Years_perc','69 Years_perc','70 Years_perc',\n",
    "                  '71 Years_perc','72 Years_perc','73 Years_perc',\n",
    "                  '74 Years_perc','75 Years_perc','76 Years_perc',\n",
    "                  '77 Years_perc','78 Years_perc','79 Years_perc',\n",
    "                  '80 Years_perc','81 Years_perc','82 Years_perc',\n",
    "                  '83 Years_perc','84 Years_perc','85 Years_perc',\n",
    "                  '86 Years_perc','87 Years_perc','88 Years_perc',\n",
    "                  '89 Years_perc','90 Years_perc','91 Years_perc',\n",
    "                  '92 Years_perc','93 Years_perc','94 Years_perc',\n",
    "                  '95 Years_perc','96 Years_perc','97  Years_perc',\n",
    "                  '98  Years_perc','99  Years_perc','100 to 104  Years_perc',\n",
    "                  '105 to 109  Years_perc','110  Years and Over_perc','Total',\n",
    "                  'Location','State','County','FIPS'\n",
    "                  ]"
   ]
  },
  {
   "cell_type": "markdown",
   "metadata": {},
   "source": [
    "### Dropping process"
   ]
  },
  {
   "cell_type": "code",
   "execution_count": null,
   "metadata": {},
   "outputs": [],
   "source": [
    "dropped_columns = {}\n",
    "\n",
    "# Iterate over the dataframes in 'dfs_perc'\n",
    "for df_name, df in dfs_perc.items():\n",
    "    # Store the dropped columns' data\n",
    "    dropped_columns[df_name] = df[columns_to_drop]\n",
    "\n",
    "    # Drop the specified columns from each dataframe\n",
    "    dfs_perc[df_name] = df.drop(columns_to_drop, axis=1)"
   ]
  },
  {
   "cell_type": "markdown",
   "metadata": {},
   "source": [
    "#### Verifying"
   ]
  },
  {
   "cell_type": "code",
   "execution_count": null,
   "metadata": {},
   "outputs": [],
   "source": [
    "# print(\"Dictionary 'dfs_perc':\")\n",
    "# for df_name, df in dfs_perc.items():\n",
    "#     print(f\"DataFrame '{df_name}' column names:\")\n",
    "#     print(list(df.columns))\n",
    "\n",
    "# print(\"\\nDictionary 'dropped_columns':\")\n",
    "# for df_name, df in dropped_columns.items():\n",
    "#     print(f\"DataFrame '{df_name}' column names:\")\n",
    "#     print(list(df.columns))"
   ]
  },
  {
   "cell_type": "markdown",
   "metadata": {},
   "source": [
    "### Variables for columns names"
   ]
  },
  {
   "cell_type": "code",
   "execution_count": null,
   "metadata": {},
   "outputs": [],
   "source": [
    "cols_int = ['Under 1 Year','1 Year','2 Years','3 Years','4 Years','5 Years',\n",
    "            '6 Years','7 Years','8 Years','9 Years','10 Years','11 Years',\n",
    "            '12 Years','13 Years','14 Years','15 Years','16 Years','17 Years',\n",
    "            '18 Years','19 Years','20 Years','21 Years','22 Years','23 Years',\n",
    "            '24 Years','25 Years','26 Years','27 Years','28 Years','29 Years',\n",
    "            '30 Years','31 Years','32 Years','33 Years','34 Years','35 Years',\n",
    "            '36 Years','37 Years','38 Years','39 Years','40 Years','41 Years',\n",
    "            '42 Years','43 Years','44 Years','45 Years','46 Years','47 Years',\n",
    "            '48 Years','49 Years','50 Years','51 Years','52 Years','53 Years',\n",
    "            '54 Years','55 Years','56 Years','57 Years','58 Years','59 Years',\n",
    "            '60 Years','61 Years','62 Years','63 Years','64 Years','65 Years',\n",
    "            '66 Years','67 Years','68 Years','69 Years','70 Years','71 Years',\n",
    "            '72 Years','73 Years','74 Years','75 Years','76 Years','77 Years',\n",
    "            '78 Years','79 Years','80 Years','81 Years','82 Years','83 Years',\n",
    "            '84 Years','85 Years','86 Years','87 Years','88 Years','89 Years',\n",
    "            '90 Years','91 Years','92 Years','93 Years','94 Years','95 Years',\n",
    "            '96 Years','97 Years','98 Years','99 Years','100 to 104 Years',\n",
    "            '105 to 109 Years','110 Years and Over'\n",
    "            ]\n",
    "cols_mod = [0,1,2,3,4,5,6,7,8,9,10,11,12,13,14,15,16,17,18,19,20,21,22,23,24,\n",
    "            25,26,27,28,29,30,31,32,33,34,35,36,37,38,39,40,41,42,43,44,45,46,\n",
    "            47,48,49,50,51,52,53,54,55,56,57,58,59,60,61,62,63,64,65,66,67,68,\n",
    "            69,70,71,72,73,74,75,76,77,78,79,80,81,82,83,84,85,86,87,88,89,90,\n",
    "            91,92,93,94,95,96,97,98,99,102,107,110\n",
    "            ] \n"
   ]
  },
  {
   "cell_type": "markdown",
   "metadata": {},
   "source": [
    "### Column change process"
   ]
  },
  {
   "cell_type": "code",
   "execution_count": null,
   "metadata": {},
   "outputs": [],
   "source": [
    "# Iterate over the dataframes in 'dfs_perc'\n",
    "for df_name, df in dfs_perc.items():\n",
    "    # Change the column names to the list of integers\n",
    "    df.columns = cols_mod\n",
    "    \n",
    "    # Convert the column type to integer\n",
    "    df[cols_mod] = df[cols_mod].astype(int)"
   ]
  },
  {
   "cell_type": "markdown",
   "metadata": {},
   "source": [
    "#### Verifying"
   ]
  },
  {
   "cell_type": "code",
   "execution_count": null,
   "metadata": {},
   "outputs": [],
   "source": [
    "# # Iterate over the dataframes in 'dfs_perc'\n",
    "# for df_name, df in dfs_perc.items():\n",
    "#     print(f\"DataFrame '{df_name}' column names:\")\n",
    "#     print(list(df.columns))\n",
    "#     print(f\"DataFrame '{df_name}' column types:\")\n",
    "#     print(df.dtypes)\n",
    "#     print()"
   ]
  },
  {
   "cell_type": "markdown",
   "metadata": {},
   "source": [
    "## Finding weighted Average"
   ]
  },
  {
   "cell_type": "code",
   "execution_count": null,
   "metadata": {},
   "outputs": [],
   "source": [
    "# Iterate over each key-value pair in dfs_perc\n",
    "for df_name, df in dfs_perc.items():\n",
    "    # Get the column names as an array of integers\n",
    "    values = np.array(df.columns, dtype=int)\n",
    "\n",
    "    # Initialize an empty list to store the results\n",
    "    results = []\n",
    "\n",
    "    # Iterate over each row in the dataframe\n",
    "    for _, row in df.iterrows():\n",
    "        # Get the row entries as an array of integers\n",
    "        weights = np.array(row.values, dtype=int)\n",
    "\n",
    "        # Perform element-wise multiplication of values and weights\n",
    "        weighted_values = values * weights\n",
    "\n",
    "        # Sum the products of the multiplications\n",
    "        weighted_sum = np.sum(weighted_values)\n",
    "\n",
    "        # Sum all items in the weights array\n",
    "        weights_sum = np.sum(weights)\n",
    "\n",
    "        # Calculate the weighted average\n",
    "        weighted_average = weighted_sum / weights_sum\n",
    "\n",
    "        # Append the weighted average to the results list\n",
    "        results.append(weighted_average)\n",
    "\n",
    "    # Add the 'Average_Age' column to the dataframe\n",
    "    df['Average_Age'] = results\n",
    "\n",
    "    # Reset the index of the dataframe\n",
    "    df.reset_index(drop=True, inplace=True)"
   ]
  },
  {
   "cell_type": "markdown",
   "metadata": {},
   "source": [
    "### Verifying"
   ]
  },
  {
   "cell_type": "code",
   "execution_count": null,
   "metadata": {},
   "outputs": [],
   "source": [
    "# # Iterate over the dictionaries in 'dropped_string_columns'\n",
    "# for df_name, df_dict in dfs_perc.items():\n",
    "#     print(f\"DataFrame '{df_name}' column names:\")\n",
    "#     print(list(df_dict.keys()))\n",
    "#     print()"
   ]
  },
  {
   "cell_type": "markdown",
   "metadata": {},
   "source": [
    "verifying values in column of specific dataframe in 'dfs_perc'"
   ]
  },
  {
   "cell_type": "code",
   "execution_count": null,
   "metadata": {},
   "outputs": [],
   "source": [
    "# # Check if 'DF_male_all' exists in 'dfs_perc' dictionary\n",
    "# if 'DF_male_all' in dfs_perc:\n",
    "#     print(\"DataFrame 'DF_male_all':\")\n",
    "#     print(dfs_perc['DF_male_all'])\n",
    "# else:\n",
    "#     print(\"DataFrame 'DF_male_all' does not exist in 'dfs_perc' dictionary.\")"
   ]
  },
  {
   "cell_type": "markdown",
   "metadata": {},
   "source": [
    "## Joining Dataframes"
   ]
  },
  {
   "cell_type": "code",
   "execution_count": null,
   "metadata": {},
   "outputs": [],
   "source": [
    "# Iterate over the dataframes in 'dfs_perc'\n",
    "for df_name, df_perc in dfs_perc.items():\n",
    "    # Get the corresponding dataframe from 'dropped_columns'\n",
    "    df_dropped = dropped_columns[df_name]\n",
    "\n",
    "    # Concatenate the dataframes width-wise\n",
    "    joined_df = pd.concat([df_perc, df_dropped], axis=1)\n",
    "\n",
    "    # Update the 'dfs_perc' dataframe in place with the joined dataframe\n",
    "    dfs_perc[df_name] = joined_df\n",
    "\n",
    "    # Reset the index of the dataframe\n",
    "    dfs_perc[df_name].reset_index(drop=True, inplace=True)"
   ]
  },
  {
   "cell_type": "markdown",
   "metadata": {},
   "source": [
    "### Verifying"
   ]
  },
  {
   "cell_type": "code",
   "execution_count": null,
   "metadata": {},
   "outputs": [],
   "source": [
    "# # Print the names, shapes, and dtypes of the dataframes in 'dfs_perc'\n",
    "# print(\"Data Frames in 'dfs_perc':\")\n",
    "# for name, df in dfs_perc.items():\n",
    "#     print(name)\n",
    "#     print(\"Shape:\", df.shape)\n",
    "#     print(\"Dtypes:\")\n",
    "#     for column, dtype in df.dtypes.items():\n",
    "#         print(f\"{column}: {dtype}\")\n",
    "#     print()"
   ]
  },
  {
   "cell_type": "markdown",
   "metadata": {},
   "source": [
    "Selecting a specific dataframe to verify information has migrated correctly"
   ]
  },
  {
   "cell_type": "code",
   "execution_count": null,
   "metadata": {},
   "outputs": [
    {
     "name": "stdout",
     "output_type": "stream",
     "text": [
      "        0    1    2    3    4    5    6    7    8    9   10   11   12   13  \\\n",
      "0     437  450  511  484  513  525  576  559  549  564  573  595  594  597   \n",
      "1      70   70   84   91   80   90  116   67   97   81   97   83   85  113   \n",
      "2      72   80   83   60   82   78   69   84   67   90   82   79   84  102   \n",
      "3     157  203  182  171  192  161  202  186  158  184  211  220  208  213   \n",
      "4      64   51   65   60   62   79   85   71   76   71   78   85   55   92   \n",
      "...   ...  ...  ...  ...  ...  ...  ...  ...  ...  ...  ...  ...  ...  ...   \n",
      "3216   98   86  120  100  109  120  115   96  114   96  114  113  127  117   \n",
      "3217  183  124  170  184  175  185  185  160  188  197  189  181  227  181   \n",
      "3218  190  218  223  195  287  247  211  223  237  185  228  244  232  248   \n",
      "3219   20   10    4   14    9   10   16   17   18   11   12   18   18   19   \n",
      "3220  593  582  669  639  691  704  658  650  687  618  670  700  755  720   \n",
      "\n",
      "       14   15   16   17   18   19   20   21   22   23   24   25   26   27  \\\n",
      "0     565  593  587  614  580  486  474  486  414  457  439  451  458  509   \n",
      "1      89   85  108   92   71   71   87   36   40   78   57   27   64   60   \n",
      "2      88   75   88   65   49   71   77   48   79   58   60   77   84   86   \n",
      "3     197  187  197  209  400  537  522  518  399  289  237  240  275  232   \n",
      "4      75   77   85   65   92   66   78   48   25   68   61   66   54   50   \n",
      "...   ...  ...  ...  ...  ...  ...  ...  ...  ...  ...  ...  ...  ...  ...   \n",
      "3216  113  134  102  115  114  115   99  114   62   86   87   99   71   94   \n",
      "3217  183  186  193  184  193  158  175  158  164  139  149  168  127  134   \n",
      "3218  255  249  212  245  212  231  200  209  204  203  217  266  249  336   \n",
      "3219   18   24    9   18   17   52   43   49   41   42   24   22   53   30   \n",
      "3220  736  722  722  708  809  890  819  753  730  660  643  575  594  618   \n",
      "\n",
      "       28   29   30   31   32   33   34   35   36   37   38   39   40   41  \\\n",
      "0     480  490  539  517  489  506  478  460  491  501  525  579  560  509   \n",
      "1      42   96   78   93   47   70   70   72   80   76   83   74   63   99   \n",
      "2      73   54   82   65   58   73   40   75   56   65   77   79   74   53   \n",
      "3     180  233  234  209  233  173  208  221  215  191  207  212  181  197   \n",
      "4      86   68   59   49   63   34   71   79   40   56   73  105   53   80   \n",
      "...   ...  ...  ...  ...  ...  ...  ...  ...  ...  ...  ...  ...  ...  ...   \n",
      "3216   98   96   66   91   94   72  119  105   87  106   84   76   95   98   \n",
      "3217  139  141  153  159  150  127  141  160  127  170  170  194  168  191   \n",
      "3218  299  321  349  360  379  348  339  361  325  383  406  294  387  335   \n",
      "3219   40   28   35   28   23   33   22   20   12   21   46   27   27   16   \n",
      "3220  641  547  619  561  598  589  621  602  596  588  655  612  605  557   \n",
      "\n",
      "       42   43   44   45   46   47   48   49   50   51   52   53   54   55  \\\n",
      "0     523  534  490  581  534  496  603  632  619  584  626  535  533  601   \n",
      "1      61   84   93   83   69   62  105   65  107   71   70   76   62   99   \n",
      "2      56   59   59   71  103   91   85   90   83   93   81   66   87   52   \n",
      "3     219  206  196  189  183  163  215  195  186  195  208  205  216  218   \n",
      "4      60   88   78   77   67   88   74  101   71   87   99   89   90   66   \n",
      "...   ...  ...  ...  ...  ...  ...  ...  ...  ...  ...  ...  ...  ...  ...   \n",
      "3216  100  121   70  103  116   61   93  118   99  105  129  151   96  112   \n",
      "3217  148  195  151  163  163  154  205  188  152  182  172  159  211  203   \n",
      "3218  349  285  261  344  311  277  293  240  264  294  225  233  216  246   \n",
      "3219   23   21   33   25   24    5   17   13   19   18   28   18   16    4   \n",
      "3220  573  558  550  623  523  604  574  620  669  575  591  617  624  703   \n",
      "\n",
      "       56   57   58   59   60   61   62   63   64   65   66   67   68   69  \\\n",
      "0     626  614  588  579  536  565  580  503  480  469  477  424  373  411   \n",
      "1     102  105   86   78   77   80   94   96   81   78   90   77   80   70   \n",
      "2      74  101  102  108   97   61   94   83   87   94   79   88   80   74   \n",
      "3     191  239  245  228  233  207  194  233  189  234  212  197  217  194   \n",
      "4      71   95  117   55   96   91  103   75   66   86   93   73   68   73   \n",
      "...   ...  ...  ...  ...  ...  ...  ...  ...  ...  ...  ...  ...  ...  ...   \n",
      "3216  123  129  143  128  145  105  132  120  135  148  125  130  109   98   \n",
      "3217  190  219  198  227  192  156  181  215  179  133  201  146  157  142   \n",
      "3218  264  251  243  244  263  217  277  182  193  260  175  198  124  153   \n",
      "3219   24   11   19   28   21   17   17   17   15   18   19    6   14   20   \n",
      "3220  682  682  655  703  713  623  605  590  642  611  586  504  472  405   \n",
      "\n",
      "       70   71   72   73   74   75   76   77   78   79   80   81   82   83  \\\n",
      "0     363  380  363  383  248  285  272  272  166  191  146  143  115   91   \n",
      "1      56   42   59   54   66   58   40   39   34   43   24   37   16   14   \n",
      "2      71   67   83   86   41   55   39   45   52   30   34   19   25   27   \n",
      "3     157  193  178  186  155  152  141  139  109   93   92   66   79   61   \n",
      "4      78   54   68   50   35   44   32   43   26   18   18   26   11   15   \n",
      "...   ...  ...  ...  ...  ...  ...  ...  ...  ...  ...  ...  ...  ...  ...   \n",
      "3216   89   88   77   71   78   47   46   64   32   50   33   42   11   17   \n",
      "3217  178  146  136  128   87  123   76  103   64   67   42   59   76   30   \n",
      "3218  130  120  115  167   79  122   66   55   62   67   42   37   49   33   \n",
      "3219    8   14   12   17    9   26    4    6   11    4   15    4    5    0   \n",
      "3220  489  387  410  392  268  321  274  261  264  272  196  206  161  168   \n",
      "\n",
      "       84   85  86  87  88  89  90  91  92  93  94  95  96  97  98  99  102  \\\n",
      "0      98   88  88  44  39  24  24  28  26   5   6   8   3   3   1   0    0   \n",
      "1      16   12  13   4  12   7   8  13   3   0   0   2   0   0   0   0    0   \n",
      "2      24   12   5   3  18  18  15   1   6   6   3   1   4   3   1   0    1   \n",
      "3      62   31  36  41  35  38  34  14   5   6   4   7   0   4   0   0    0   \n",
      "4      12   17   2   5  13  14   9   1   2   6   2   0   2   0   0   0    1   \n",
      "...   ...  ...  ..  ..  ..  ..  ..  ..  ..  ..  ..  ..  ..  ..  ..  ..  ...   \n",
      "3216   32   17   7  12  24   8   1   0  13  10   3   2   4   0   3   1    1   \n",
      "3217   46   42  30  23  14  26  26  10   5   5   5   5   2   1   1   0    1   \n",
      "3218   52   36  34  28  24  49  25   5   8   6  26   6   3   6   4   2    5   \n",
      "3219    6    2   1   1   1   6   0   1   3   1   0   0   0   0   0   0    1   \n",
      "3220  138  102  61  77  74  60  39  32  15  25  13   5   3   9   1   0    4   \n",
      "\n",
      "      107  110  Average_Age  Under 1 Year_perc  1 Year_perc  2 Years_perc  \\\n",
      "0       0    0    38.518476           0.010715     0.011034      0.012530   \n",
      "1       0    0    39.192103           0.011281     0.011281      0.013537   \n",
      "2       2    0    40.734192           0.011734     0.013038      0.013527   \n",
      "3       0    0    38.858371           0.008768     0.011337      0.010164   \n",
      "4       1    0    40.306536           0.011185     0.008913      0.011360   \n",
      "...   ...  ...          ...                ...          ...           ...   \n",
      "3216    0    1    39.908089           0.011744     0.010306      0.014380   \n",
      "3217    0    0    39.505269           0.013487     0.009138      0.012529   \n",
      "3218    0    0    37.824757           0.009651     0.011073      0.011327   \n",
      "3219    0    0    37.842043           0.011876     0.005938      0.002375   \n",
      "3220    0    0    37.557007           0.012026     0.011803      0.013567   \n",
      "\n",
      "      3 Years_perc  4 Years_perc  5 Years_perc  6 Years_perc  7 Years_perc  \\\n",
      "0         0.011868      0.012579      0.012873      0.014124      0.013707   \n",
      "1         0.014666      0.012893      0.014504      0.018695      0.010798   \n",
      "2         0.009778      0.013364      0.012712      0.011245      0.013690   \n",
      "3         0.009550      0.010723      0.008991      0.011281      0.010388   \n",
      "4         0.010486      0.010835      0.013806      0.014855      0.012408   \n",
      "...            ...           ...           ...           ...           ...   \n",
      "3216      0.011983      0.013062      0.014380      0.013781      0.011504   \n",
      "3217      0.013560      0.012897      0.013634      0.013634      0.011792   \n",
      "3218      0.009905      0.014578      0.012546      0.010718      0.011327   \n",
      "3219      0.008314      0.005344      0.005938      0.009501      0.010095   \n",
      "3220      0.012959      0.014013      0.014277      0.013344      0.013182   \n",
      "\n",
      "      8 Years_perc  9 Years_perc  10 Years_perc  11 Years_perc  12 Years_perc  \\\n",
      "0         0.013461      0.013829       0.014050       0.014589       0.014565   \n",
      "1         0.015633      0.013054       0.015633       0.013376       0.013699   \n",
      "2         0.010919      0.014668       0.013364       0.012875       0.013690   \n",
      "3         0.008824      0.010276       0.011784       0.012286       0.011616   \n",
      "4         0.013282      0.012408       0.013632       0.014855       0.009612   \n",
      "...            ...           ...            ...            ...            ...   \n",
      "3216      0.013661      0.011504       0.013661       0.013541       0.015219   \n",
      "3217      0.013855      0.014518       0.013929       0.013339       0.016729   \n",
      "3218      0.012038      0.009397       0.011581       0.012394       0.011784   \n",
      "3219      0.010689      0.006532       0.007126       0.010689       0.010689   \n",
      "3220      0.013932      0.012533       0.013588       0.014196       0.015311   \n",
      "\n",
      "      13 Years_perc  14 Years_perc  15 Years_perc  16 Years_perc  \\\n",
      "0          0.014638       0.013854       0.014540       0.014393   \n",
      "1          0.018211       0.014343       0.013699       0.017405   \n",
      "2          0.016623       0.014342       0.012223       0.014342   \n",
      "3          0.011895       0.011002       0.010443       0.011002   \n",
      "4          0.016078       0.013107       0.013457       0.014855   \n",
      "...             ...            ...            ...            ...   \n",
      "3216       0.014020       0.013541       0.016058       0.012223   \n",
      "3217       0.013339       0.013487       0.013708       0.014224   \n",
      "3218       0.012597       0.012953       0.012648       0.010769   \n",
      "3219       0.011283       0.010689       0.014252       0.005344   \n",
      "3220       0.014602       0.014926       0.014642       0.014642   \n",
      "\n",
      "      17 Years_perc  18 Years_perc  19 Years_perc  20 Years_perc  \\\n",
      "0          0.015055       0.014222       0.011917       0.011622   \n",
      "1          0.014827       0.011442       0.011442       0.014021   \n",
      "2          0.010593       0.007986       0.011571       0.012549   \n",
      "3          0.011672       0.022339       0.029990       0.029152   \n",
      "4          0.011360       0.016078       0.011534       0.013632   \n",
      "...             ...            ...            ...            ...   \n",
      "3216       0.013781       0.013661       0.013781       0.011863   \n",
      "3217       0.013560       0.014224       0.011644       0.012897   \n",
      "3218       0.012445       0.010769       0.011734       0.010159   \n",
      "3219       0.010689       0.010095       0.030879       0.025534   \n",
      "3220       0.014358       0.016406       0.018049       0.016609   \n",
      "\n",
      "      21 Years_perc  22 Years_perc  23 Years_perc  24 Years_perc  \\\n",
      "0          0.011917       0.010151       0.011206       0.010764   \n",
      "1          0.005802       0.006446       0.012571       0.009186   \n",
      "2          0.007823       0.012875       0.009452       0.009778   \n",
      "3          0.028929       0.022283       0.016140       0.013236   \n",
      "4          0.008389       0.004369       0.011884       0.010661   \n",
      "...             ...            ...            ...            ...   \n",
      "3216       0.013661       0.007430       0.010306       0.010425   \n",
      "3217       0.011644       0.012086       0.010244       0.010981   \n",
      "3218       0.010616       0.010362       0.010311       0.011023   \n",
      "3219       0.029097       0.024347       0.024941       0.014252   \n",
      "3220       0.015271       0.014804       0.013385       0.013040   \n",
      "\n",
      "      25 Years_perc  26 Years_perc  27 Years_perc  28 Years_perc  \\\n",
      "0          0.011059       0.011230       0.012481       0.011770   \n",
      "1          0.004351       0.010314       0.009670       0.006769   \n",
      "2          0.012549       0.013690       0.014016       0.011897   \n",
      "3          0.013403       0.015358       0.012957       0.010052   \n",
      "4          0.011534       0.009437       0.008738       0.015030   \n",
      "...             ...            ...            ...            ...   \n",
      "3216       0.011863       0.008508       0.011264       0.011744   \n",
      "3217       0.012381       0.009360       0.009875       0.010244   \n",
      "3218       0.013511       0.012648       0.017067       0.015188   \n",
      "3219       0.013064       0.031473       0.017815       0.023753   \n",
      "3220       0.011661       0.012046       0.012533       0.012999   \n",
      "\n",
      "      29 Years_perc  30 Years_perc  31 Years_perc  32 Years_perc  \\\n",
      "0          0.012015       0.013216       0.012677       0.011990   \n",
      "1          0.015471       0.012571       0.014988       0.007575   \n",
      "2          0.008801       0.013364       0.010593       0.009452   \n",
      "3          0.013012       0.013068       0.011672       0.013012   \n",
      "4          0.011884       0.010311       0.008563       0.011010   \n",
      "...             ...            ...            ...            ...   \n",
      "3216       0.011504       0.007909       0.010905       0.011264   \n",
      "3217       0.010391       0.011276       0.011718       0.011055   \n",
      "3218       0.016305       0.017727       0.018286       0.019251   \n",
      "3219       0.016627       0.020784       0.016627       0.013658   \n",
      "3220       0.011093       0.012553       0.011377       0.012127   \n",
      "\n",
      "      33 Years_perc  34 Years_perc  35 Years_perc  36 Years_perc  \\\n",
      "0          0.012407       0.011721       0.011279       0.012039   \n",
      "1          0.011281       0.011281       0.011604       0.012893   \n",
      "2          0.011897       0.006519       0.012223       0.009126   \n",
      "3          0.009662       0.011616       0.012342       0.012007   \n",
      "4          0.005942       0.012408       0.013806       0.006991   \n",
      "...             ...            ...            ...            ...   \n",
      "3216       0.008628       0.014260       0.012582       0.010425   \n",
      "3217       0.009360       0.010391       0.011792       0.009360   \n",
      "3218       0.017677       0.017219       0.018337       0.016508   \n",
      "3219       0.019596       0.013064       0.011876       0.007126   \n",
      "3220       0.011945       0.012594       0.012208       0.012087   \n",
      "\n",
      "      37 Years_perc  38 Years_perc  39 Years_perc  40 Years_perc  \\\n",
      "0          0.012285       0.012873       0.014197       0.013731   \n",
      "1          0.012248       0.013376       0.011926       0.010153   \n",
      "2          0.010593       0.012549       0.012875       0.012060   \n",
      "3          0.010667       0.011560       0.011840       0.010108   \n",
      "4          0.009787       0.012758       0.018350       0.009262   \n",
      "...             ...            ...            ...            ...   \n",
      "3216       0.012702       0.010066       0.009107       0.011384   \n",
      "3217       0.012529       0.012529       0.014297       0.012381   \n",
      "3218       0.019454       0.020623       0.014934       0.019658   \n",
      "3219       0.012470       0.027316       0.016033       0.016033   \n",
      "3220       0.011925       0.013283       0.012411       0.012269   \n",
      "\n",
      "      41 Years_perc  42 Years_perc  43 Years_perc  44 Years_perc  \\\n",
      "0          0.012481       0.012824       0.013094       0.012015   \n",
      "1          0.015955       0.009831       0.013537       0.014988   \n",
      "2          0.008638       0.009126       0.009615       0.009615   \n",
      "3          0.011002       0.012231       0.011505       0.010946   \n",
      "4          0.013981       0.010486       0.015379       0.013632   \n",
      "...             ...            ...            ...            ...   \n",
      "3216       0.011744       0.011983       0.014500       0.008388   \n",
      "3217       0.014076       0.010907       0.014371       0.011128   \n",
      "3218       0.017016       0.017727       0.014477       0.013257   \n",
      "3219       0.009501       0.013658       0.012470       0.019596   \n",
      "3220       0.011296       0.011620       0.011316       0.011154   \n",
      "\n",
      "      45 Years_perc  46 Years_perc  47 Years_perc  48 Years_perc  \\\n",
      "0          0.014246       0.013094       0.012162       0.014786   \n",
      "1          0.013376       0.011120       0.009992       0.016922   \n",
      "2          0.011571       0.016786       0.014831       0.013853   \n",
      "3          0.010555       0.010220       0.009103       0.012007   \n",
      "4          0.013457       0.011709       0.015379       0.012933   \n",
      "...             ...            ...            ...            ...   \n",
      "3216       0.012343       0.013901       0.007310       0.011144   \n",
      "3217       0.012013       0.012013       0.011349       0.015108   \n",
      "3218       0.017473       0.015797       0.014070       0.014883   \n",
      "3219       0.014846       0.014252       0.002969       0.010095   \n",
      "3220       0.012634       0.010606       0.012249       0.011641   \n",
      "\n",
      "      49 Years_perc  50 Years_perc  51 Years_perc  52 Years_perc  \\\n",
      "0          0.015497       0.015178       0.014320       0.015350   \n",
      "1          0.010475       0.017244       0.011442       0.011281   \n",
      "2          0.014668       0.013527       0.015156       0.013201   \n",
      "3          0.010890       0.010388       0.010890       0.011616   \n",
      "4          0.017651       0.012408       0.015204       0.017302   \n",
      "...             ...            ...            ...            ...   \n",
      "3216       0.014140       0.011863       0.012582       0.015458   \n",
      "3217       0.013855       0.011202       0.013413       0.012676   \n",
      "3218       0.012191       0.013410       0.014934       0.011429   \n",
      "3219       0.007720       0.011283       0.010689       0.016627   \n",
      "3220       0.012574       0.013567       0.011661       0.011985   \n",
      "\n",
      "      53 Years_perc  54 Years_perc  55 Years_perc  56 Years_perc  \\\n",
      "0          0.013118       0.013069       0.014737       0.015350   \n",
      "1          0.012248       0.009992       0.015955       0.016438   \n",
      "2          0.010756       0.014179       0.008475       0.012060   \n",
      "3          0.011449       0.012063       0.012175       0.010667   \n",
      "4          0.015554       0.015729       0.011534       0.012408   \n",
      "...             ...            ...            ...            ...   \n",
      "3216       0.018095       0.011504       0.013421       0.014739   \n",
      "3217       0.011718       0.015550       0.014961       0.014003   \n",
      "3218       0.011835       0.010972       0.012496       0.013410   \n",
      "3219       0.010689       0.009501       0.002375       0.014252   \n",
      "3220       0.012513       0.012655       0.014257       0.013831   \n",
      "\n",
      "      57 Years_perc  58 Years_perc  59 Years_perc  60 Years_perc  \\\n",
      "0          0.015055       0.014418       0.014197       0.013143   \n",
      "1          0.016922       0.013860       0.012571       0.012409   \n",
      "2          0.016460       0.016623       0.017601       0.015808   \n",
      "3          0.013347       0.013683       0.012733       0.013012   \n",
      "4          0.016603       0.020447       0.009612       0.016777   \n",
      "...             ...            ...            ...            ...   \n",
      "3216       0.015458       0.017136       0.015339       0.017376   \n",
      "3217       0.016140       0.014592       0.016729       0.014150   \n",
      "3218       0.012750       0.012343       0.012394       0.013359   \n",
      "3219       0.006532       0.011283       0.016627       0.012470   \n",
      "3220       0.013831       0.013283       0.014257       0.014460   \n",
      "\n",
      "      61 Years_perc  62 Years_perc  63 Years_perc  64 Years_perc  \\\n",
      "0          0.013854       0.014222       0.012334       0.011770   \n",
      "1          0.012893       0.015149       0.015471       0.013054   \n",
      "2          0.009941       0.015319       0.013527       0.014179   \n",
      "3          0.011560       0.010834       0.013012       0.010555   \n",
      "4          0.015904       0.018001       0.013107       0.011534   \n",
      "...             ...            ...            ...            ...   \n",
      "3216       0.012582       0.015818       0.014380       0.016177   \n",
      "3217       0.011497       0.013339       0.015845       0.013192   \n",
      "3218       0.011023       0.014070       0.009245       0.009803   \n",
      "3219       0.010095       0.010095       0.010095       0.008907   \n",
      "3220       0.012634       0.012269       0.011965       0.013020   \n",
      "\n",
      "      65 Years_perc  66 Years_perc  67 Years_perc  68 Years_perc  \\\n",
      "0          0.011500       0.011696       0.010396       0.009146   \n",
      "1          0.012571       0.014504       0.012409       0.012893   \n",
      "2          0.015319       0.012875       0.014342       0.013038   \n",
      "3          0.013068       0.011840       0.011002       0.012119   \n",
      "4          0.015030       0.016253       0.012758       0.011884   \n",
      "...             ...            ...            ...            ...   \n",
      "3216       0.017735       0.014979       0.015578       0.013062   \n",
      "3217       0.009802       0.014813       0.010760       0.011570   \n",
      "3218       0.013207       0.008889       0.010057       0.006299   \n",
      "3219       0.010689       0.011283       0.003563       0.008314   \n",
      "3220       0.012391       0.011884       0.010221       0.009572   \n",
      "\n",
      "      69 Years_perc  70 Years_perc  71 Years_perc  72 Years_perc  \\\n",
      "0          0.010078       0.008901       0.009318       0.008901   \n",
      "1          0.011281       0.009025       0.006769       0.009508   \n",
      "2          0.012060       0.011571       0.010919       0.013527   \n",
      "3          0.010834       0.008768       0.010779       0.009941   \n",
      "4          0.012758       0.013632       0.009437       0.011884   \n",
      "...             ...            ...            ...            ...   \n",
      "3216       0.011744       0.010665       0.010545       0.009227   \n",
      "3217       0.010465       0.013118       0.010760       0.010023   \n",
      "3218       0.007772       0.006603       0.006095       0.005841   \n",
      "3219       0.011876       0.004751       0.008314       0.007126   \n",
      "3220       0.008213       0.009917       0.007848       0.008315   \n",
      "\n",
      "      73 Years_perc  74 Years_perc  75 Years_perc  76 Years_perc  \\\n",
      "0          0.009391       0.006081       0.006988       0.006669   \n",
      "1          0.008703       0.010637       0.009347       0.006446   \n",
      "2          0.014016       0.006682       0.008963       0.006356   \n",
      "3          0.010388       0.008656       0.008489       0.007874   \n",
      "4          0.008738       0.006117       0.007690       0.005592   \n",
      "...             ...            ...            ...            ...   \n",
      "3216       0.008508       0.009347       0.005632       0.005512   \n",
      "3217       0.009433       0.006412       0.009065       0.005601   \n",
      "3218       0.008483       0.004013       0.006197       0.003352   \n",
      "3219       0.010095       0.005344       0.015439       0.002375   \n",
      "3220       0.007950       0.005435       0.006510       0.005557   \n",
      "\n",
      "      77 Years_perc  78 Years_perc  79 Years_perc  80 Years_perc  \\\n",
      "0          0.006669       0.004070       0.004683       0.003580   \n",
      "1          0.006285       0.005479       0.006930       0.003868   \n",
      "2          0.007334       0.008475       0.004889       0.005541   \n",
      "3          0.007763       0.006087       0.005194       0.005138   \n",
      "4          0.007515       0.004544       0.003146       0.003146   \n",
      "...             ...            ...            ...            ...   \n",
      "3216       0.007669       0.003835       0.005992       0.003954   \n",
      "3217       0.007591       0.004717       0.004938       0.003095   \n",
      "3218       0.002794       0.003149       0.003403       0.002133   \n",
      "3219       0.003563       0.006532       0.002375       0.008907   \n",
      "3220       0.005293       0.005354       0.005516       0.003975   \n",
      "\n",
      "      81 Years_perc  82 Years_perc  83 Years_perc  84 Years_perc  \\\n",
      "0          0.003506       0.002820       0.002231       0.002403   \n",
      "1          0.005963       0.002579       0.002256       0.002579   \n",
      "2          0.003096       0.004074       0.004400       0.003911   \n",
      "3          0.003686       0.004412       0.003407       0.003463   \n",
      "4          0.004544       0.001922       0.002621       0.002097   \n",
      "...             ...            ...            ...            ...   \n",
      "3216       0.005033       0.001318       0.002037       0.003835   \n",
      "3217       0.004348       0.005601       0.002211       0.003390   \n",
      "3218       0.001879       0.002489       0.001676       0.002641   \n",
      "3219       0.002375       0.002969       0.000000       0.003563   \n",
      "3220       0.004178       0.003265       0.003407       0.002799   \n",
      "\n",
      "      85 Years_perc  86 Years_perc  87 Years_perc  88 Years_perc  \\\n",
      "0          0.002158       0.002158       0.001079       0.000956   \n",
      "1          0.001934       0.002095       0.000645       0.001934   \n",
      "2          0.001956       0.000815       0.000489       0.002934   \n",
      "3          0.001731       0.002010       0.002290       0.001955   \n",
      "4          0.002971       0.000350       0.000874       0.002272   \n",
      "...             ...            ...            ...            ...   \n",
      "3216       0.002037       0.000839       0.001438       0.002876   \n",
      "3217       0.003095       0.002211       0.001695       0.001032   \n",
      "3218       0.001829       0.001727       0.001422       0.001219   \n",
      "3219       0.001188       0.000594       0.000594       0.000594   \n",
      "3220       0.002069       0.001237       0.001562       0.001501   \n",
      "\n",
      "      89 Years_perc  90 Years_perc  91 Years_perc  92 Years_perc  \\\n",
      "0          0.000588       0.000588       0.000687       0.000638   \n",
      "1          0.001128       0.001289       0.002095       0.000483   \n",
      "2          0.002934       0.002445       0.000163       0.000978   \n",
      "3          0.002122       0.001899       0.000782       0.000279   \n",
      "4          0.002447       0.001573       0.000175       0.000350   \n",
      "...             ...            ...            ...            ...   \n",
      "3216       0.000959       0.000120       0.000000       0.001558   \n",
      "3217       0.001916       0.001916       0.000737       0.000368   \n",
      "3218       0.002489       0.001270       0.000254       0.000406   \n",
      "3219       0.003563       0.000000       0.000594       0.001781   \n",
      "3220       0.001217       0.000791       0.000649       0.000304   \n",
      "\n",
      "      93 Years_perc  94 Years_perc  95 Years_perc  96 Years_perc  \\\n",
      "0          0.000123       0.000147       0.000196       0.000074   \n",
      "1          0.000000       0.000000       0.000322       0.000000   \n",
      "2          0.000978       0.000489       0.000163       0.000652   \n",
      "3          0.000335       0.000223       0.000391       0.000000   \n",
      "4          0.001049       0.000350       0.000000       0.000350   \n",
      "...             ...            ...            ...            ...   \n",
      "3216       0.001198       0.000359       0.000240       0.000479   \n",
      "3217       0.000368       0.000368       0.000368       0.000147   \n",
      "3218       0.000305       0.001321       0.000305       0.000152   \n",
      "3219       0.000594       0.000000       0.000000       0.000000   \n",
      "3220       0.000507       0.000264       0.000101       0.000061   \n",
      "\n",
      "      97  Years_perc  98  Years_perc  99  Years_perc  100 to 104  Years_perc  \\\n",
      "0           0.000074        0.000025        0.000000                0.000000   \n",
      "1           0.000000        0.000000        0.000000                0.000000   \n",
      "2           0.000489        0.000163        0.000000                0.000163   \n",
      "3           0.000223        0.000000        0.000000                0.000000   \n",
      "4           0.000000        0.000000        0.000000                0.000175   \n",
      "...              ...             ...             ...                     ...   \n",
      "3216        0.000000        0.000359        0.000120                0.000120   \n",
      "3217        0.000074        0.000074        0.000000                0.000074   \n",
      "3218        0.000305        0.000203        0.000102                0.000254   \n",
      "3219        0.000000        0.000000        0.000000                0.000594   \n",
      "3220        0.000183        0.000020        0.000000                0.000081   \n",
      "\n",
      "      105 to 109  Years_perc  110  Years and Over_perc  Total  \\\n",
      "0                   0.000000                   0.00000  40783   \n",
      "1                   0.000000                   0.00000   6205   \n",
      "2                   0.000326                   0.00000   6136   \n",
      "3                   0.000000                   0.00000  17906   \n",
      "4                   0.000175                   0.00000   5722   \n",
      "...                      ...                       ...    ...   \n",
      "3216                0.000000                   0.00012   8345   \n",
      "3217                0.000000                   0.00000  13569   \n",
      "3218                0.000000                   0.00000  19687   \n",
      "3219                0.000000                   0.00000   1684   \n",
      "3220                0.000000                   0.00000  49310   \n",
      "\n",
      "                         Location State County   FIPS  \n",
      "0        Bullitt County, Kentucky    21    029  21029  \n",
      "1         Butler County, Kentucky    21    031  21031  \n",
      "2       Caldwell County, Kentucky    21    033  21033  \n",
      "3       Calloway County, Kentucky    21    035  21035  \n",
      "4       Magoffin County, Kentucky    21    153  21153  \n",
      "...                           ...   ...    ...    ...  \n",
      "3216    Haywood County, Tennessee    47    075  47075  \n",
      "3217  Henderson County, Tennessee    47    077  47077  \n",
      "3218         Howard County, Texas    48    227  48227  \n",
      "3219       Hudspeth County, Texas    48    229  48229  \n",
      "3220           Hunt County, Texas    48    231  48231  \n",
      "\n",
      "[3221 rows x 212 columns]\n"
     ]
    }
   ],
   "source": [
    "# # Temp option to see all columns\n",
    "# with pd.option_context('display.max_columns', None):\n",
    "#     print(dfs_perc['DF_male_all'])"
   ]
  },
  {
   "cell_type": "markdown",
   "metadata": {},
   "source": [
    "## Joining Dictionaries"
   ]
  },
  {
   "cell_type": "code",
   "execution_count": null,
   "metadata": {},
   "outputs": [],
   "source": [
    "# Merge the dictionaries 'dfs' and 'dfs_perc' into 'dfs' in the order of 'df_names'\n",
    "for df_name in df_names:\n",
    "    if df_name in dfs_perc:\n",
    "        if df_name in dfs:\n",
    "            df_merged = pd.concat([dfs[df_name], dfs_perc[df_name]], axis=1)\n",
    "            dfs[df_name] = df_merged\n",
    "        else:\n",
    "            dfs[df_name] = dfs_perc[df_name]"
   ]
  },
  {
   "cell_type": "markdown",
   "metadata": {},
   "source": [
    "### Verifying"
   ]
  },
  {
   "cell_type": "markdown",
   "metadata": {},
   "source": [
    "Print all the count,name,shape,# of cols, col names of the dataframes"
   ]
  },
  {
   "cell_type": "code",
   "execution_count": null,
   "metadata": {},
   "outputs": [],
   "source": [
    "# # Print the number of dataframes in the 'dfs' dictionary\n",
    "# print(\"Number of Dataframes in 'dfs':\", len(dfs))\n",
    "\n",
    "# # Print the shape of the dataframes in 'dfs'\n",
    "# print(\"Data Frames in 'dfs':\")\n",
    "# for df_name, df in dfs.items():\n",
    "#     print(\"Dataframe Name:\", df_name)\n",
    "#     print(\"Shape:\", df.shape)\n",
    "#     print(f\"Number of Columns: {len(df.columns)}\")\n",
    "#     print(\"Columns:\", df.columns.tolist())"
   ]
  },
  {
   "cell_type": "markdown",
   "metadata": {},
   "source": [
    "## Copying Columns"
   ]
  },
  {
   "cell_type": "markdown",
   "metadata": {},
   "source": [
    "Copy needed cols from sex dfs to race df"
   ]
  },
  {
   "cell_type": "code",
   "execution_count": null,
   "metadata": {},
   "outputs": [],
   "source": [
    "# Create a dictionary to map the column prefixes to the corresponding dataframes\n",
    "column_map = {\n",
    "    'DF_total_all': ['DF_male_all', 'DF_female_all'],\n",
    "    'DF_total_whi': ['DF_total_male_whi', 'DF_total_female_whi'],\n",
    "    'DF_total_baa': ['DF_total_male_baa', 'DF_total_female_baa'],\n",
    "    'DF_total_aian': ['DF_total_male_aian', 'DF_total_female_aian'],\n",
    "    'DF_total_aa': ['DF_total_male_aa', 'DF_total_female_aa'],\n",
    "    'DF_total_nhop': ['DF_total_male_nhop', 'DF_total_female_nhop'],\n",
    "    'DF_total_sor': ['DF_total_male_sor', 'DF_total_female_sor'],\n",
    "    'DF_total_tom': ['DF_total_male_tom', 'DF_total_female_tom'],\n",
    "    'DF_total_hol': ['DF_total_male_hol', 'DF_total_female_hol']\n",
    "}\n",
    "\n",
    "# Copy 'Total' column to the correct dataframes\n",
    "for key, value in column_map.items():\n",
    "    # Slicing exclude the first three characters\n",
    "    dfs[key][f'{value[0][3:]}'] = dfs_perc[value[0]]['Total'].copy()\n",
    "    dfs[key][f'{value[1][3:]}'] = dfs_perc[value[1]]['Total'].copy()"
   ]
  },
  {
   "cell_type": "markdown",
   "metadata": {},
   "source": [
    "### Verifying"
   ]
  },
  {
   "cell_type": "code",
   "execution_count": null,
   "metadata": {},
   "outputs": [],
   "source": [
    "# # Verify the outcome\n",
    "# for key, df in dfs.items():\n",
    "#     print(f\"DataFrame '{key}' column names:\")\n",
    "#     print(df.columns)"
   ]
  },
  {
   "cell_type": "markdown",
   "metadata": {},
   "source": [
    "## Copying Columns"
   ]
  },
  {
   "cell_type": "markdown",
   "metadata": {},
   "source": [
    "Copy needed cols from race df to total df"
   ]
  },
  {
   "cell_type": "code",
   "execution_count": null,
   "metadata": {},
   "outputs": [],
   "source": [
    "# Create a dictionary to map the column prefixes to the corresponding dataframes\n",
    "column_map = {\n",
    "    'DF_total_all': ['DF_total_whi', 'DF_total_baa', 'DF_total_aian',\n",
    "                     'DF_total_aa', 'DF_total_nhop', 'DF_total_sor',\n",
    "                     'DF_total_tom', 'DF_total_hol'\n",
    "                     ]\n",
    "                }\n",
    "\n",
    "# Copy 'Total' column to the correct dataframes\n",
    "for key, value in column_map.items():\n",
    "    for df_name in value:\n",
    "        dfs[key][df_name[3:]] = dfs[df_name]['Total'].copy()"
   ]
  },
  {
   "cell_type": "markdown",
   "metadata": {},
   "source": [
    "### Verifying"
   ]
  },
  {
   "cell_type": "code",
   "execution_count": null,
   "metadata": {},
   "outputs": [],
   "source": [
    "# # Verify the outcome\n",
    "# print(f\"DataFrame 'DF_total_all' column names:\")\n",
    "# print(dfs['DF_total_all'].columns)"
   ]
  },
  {
   "cell_type": "markdown",
   "metadata": {},
   "source": [
    "## Adding Age totals for races from age DF to race DF"
   ]
  },
  {
   "cell_type": "code",
   "execution_count": null,
   "metadata": {},
   "outputs": [],
   "source": [
    "# Create a dictionary to map the column prefixes to the corresponding dataframes\n",
    "column_map = {\n",
    "    'DF_total_all': ['DF_male_all', 'DF_female_all'],\n",
    "    'DF_total_whi': ['DF_total_male_whi', 'DF_total_female_whi'],\n",
    "    'DF_total_baa': ['DF_total_male_baa', 'DF_total_female_baa'],\n",
    "    'DF_total_aian': ['DF_total_male_aian', 'DF_total_female_aian'],\n",
    "    'DF_total_aa': ['DF_total_male_aa', 'DF_total_female_aa'],\n",
    "    'DF_total_nhop': ['DF_total_male_nhop', 'DF_total_female_nhop'],\n",
    "    'DF_total_sor': ['DF_total_male_sor', 'DF_total_female_sor'],\n",
    "    'DF_total_tom': ['DF_total_male_tom', 'DF_total_female_tom'],\n",
    "    'DF_total_hol': ['DF_total_male_hol', 'DF_total_female_hol']\n",
    "}\n",
    "\n",
    "# Iterate through the columns and update the 'DF_total_all' dataframe using the column_map\n",
    "for column in cols_mod:\n",
    "    dfs['DF_total_all'][column] = dfs['DF_male_all'][column] + dfs['DF_female_all'][column]\n",
    "\n",
    "# Iterate through the column_map to update other dataframes\n",
    "for key, value in column_map.items():\n",
    "    for column in cols_mod:\n",
    "        dfs[key][column] = dfs[value[0]][column] + dfs[value[1]][column]"
   ]
  },
  {
   "cell_type": "markdown",
   "metadata": {},
   "source": [
    "### Verifying"
   ]
  },
  {
   "cell_type": "code",
   "execution_count": null,
   "metadata": {},
   "outputs": [],
   "source": [
    "# for key, df in dfs.items():\n",
    "#     print(f\"DataFrame '{key}' after modification:\")\n",
    "#     print(df)\n",
    "#     print()"
   ]
  },
  {
   "cell_type": "markdown",
   "metadata": {},
   "source": [
    "## Building Weighted Average Column for 'perc_df_2' listed dfs"
   ]
  },
  {
   "cell_type": "markdown",
   "metadata": {},
   "source": [
    "Removing dataframes from dict 'dfs' for further processing"
   ]
  },
  {
   "cell_type": "code",
   "execution_count": null,
   "metadata": {},
   "outputs": [],
   "source": [
    "# Initialize the new dictionary 'dfs_perc'\n",
    "dfs_perc_2 = {}\n",
    "\n",
    "# Iterate over the dataframe names in 'perc_df_2' list\n",
    "for df_name in perc_df_2:\n",
    "    # Check if the dataframe name exists in 'dfs' dictionary\n",
    "    if df_name in dfs:\n",
    "        # Move the matching dataframe from 'dfs' to 'dfs_perc_2'\n",
    "        dfs_perc_2[df_name] = dfs.pop(df_name)"
   ]
  },
  {
   "cell_type": "markdown",
   "metadata": {},
   "source": [
    "### Verifying"
   ]
  },
  {
   "cell_type": "markdown",
   "metadata": {},
   "source": [
    "Should have 9 dataframes"
   ]
  },
  {
   "cell_type": "code",
   "execution_count": null,
   "metadata": {},
   "outputs": [],
   "source": [
    "# print(len(dfs_perc_2))\n",
    "# for key, df in dfs_perc_2.items():\n",
    "#     print(f\"DataFrame '{key}'\")"
   ]
  },
  {
   "cell_type": "markdown",
   "metadata": {},
   "source": [
    "### Dropping process"
   ]
  },
  {
   "cell_type": "code",
   "execution_count": null,
   "metadata": {},
   "outputs": [],
   "source": [
    "'''Dropping columns in list'cols_mod' to new dictionary.  Running weighted\n",
    "average arrays in new dict 'dropped_columns' then rejoining dictionaries to the\n",
    "affected dataframes from list 'perc_df_2'. I know, imagine how I feel, I'm the\n",
    "one writing the things.'''"
   ]
  },
  {
   "cell_type": "code",
   "execution_count": null,
   "metadata": {},
   "outputs": [],
   "source": [
    "dropped_columns = {}\n",
    "\n",
    "# Iterate over the dataframes in 'dfs_perc_2'\n",
    "    # Dataframe's name to 'df_name' and the dataframe itself to 'df'\n",
    "for df_name, df in dfs_perc_2.items():\n",
    "    # Store the dropped columns' data\n",
    "    dropped_columns[df_name] = df[cols_mod]\n",
    "\n",
    "    # Drop the specified columns from each dataframe\n",
    "    dfs_perc_2[df_name] = df.drop(cols_mod, axis=1)"
   ]
  },
  {
   "cell_type": "markdown",
   "metadata": {},
   "source": [
    "### Verifying"
   ]
  },
  {
   "cell_type": "code",
   "execution_count": null,
   "metadata": {},
   "outputs": [],
   "source": [
    "# for df_name, df in dropped_columns.items():\n",
    "#     # Print the name of the dataframe\n",
    "#     print(f\"DataFrame Name: {df_name}\")\n",
    "\n",
    "#     # Print the list of column names for the dataframe\n",
    "#     print(\"Column Names:\")\n",
    "#     column_names = df.columns.tolist()\n",
    "#     print(column_names)\n",
    "\n",
    "#     # Print the list of column types for the dataframe\n",
    "#     print(\"Column Types:\")\n",
    "#     column_types = df.dtypes.tolist()\n",
    "#     print(column_types)"
   ]
  },
  {
   "cell_type": "markdown",
   "metadata": {},
   "source": [
    "## Finding weighted Average"
   ]
  },
  {
   "cell_type": "markdown",
   "metadata": {},
   "source": [
    "For DFs in dict 'dropped_columns'"
   ]
  },
  {
   "cell_type": "code",
   "execution_count": null,
   "metadata": {},
   "outputs": [],
   "source": [
    "# Iterate through the dataframes in 'dropped_columns' whose name is in 'perc_df_2'\n",
    "for df_name, df in dropped_columns.items():\n",
    "    if df_name in perc_df_2:\n",
    "        # Get the column names as an array of integers from 'cols_mod'\n",
    "        values = np.array(cols_mod, dtype=int)\n",
    "\n",
    "        # Initialize an empty list to store the results\n",
    "        results = []\n",
    "\n",
    "        # Iterate over each row in the dataframe\n",
    "        for _, row in df.iterrows():\n",
    "            # Get the row entries as an array of integers\n",
    "            weights = np.array(row.values, dtype=int)\n",
    "\n",
    "            # Perform element-wise multiplication of values and weights\n",
    "            weighted_values = values * weights\n",
    "\n",
    "            # Sum the products of the multiplications\n",
    "            weighted_sum = np.sum(weighted_values)\n",
    "\n",
    "            # Sum all items in the weights array\n",
    "            weights_sum = np.sum(weights)\n",
    "\n",
    "            # Calculate the weighted average, handle division by zero\n",
    "            if weights_sum != 0:\n",
    "                weighted_average = weighted_sum / weights_sum\n",
    "            else:\n",
    "                weighted_average = np.nan\n",
    "\n",
    "            # Append the weighted average to the results list\n",
    "            results.append(weighted_average)\n",
    "\n",
    "        # Convert the results list to a float array explicitly\n",
    "        results = np.array(results, dtype=float)\n",
    "\n",
    "        # Add the 'Average_Age' column to the dataframe\n",
    "        df['Average_Age'] = results\n",
    "\n",
    "        # Reset the index of the dataframe\n",
    "        df.reset_index(drop=True, inplace=True)"
   ]
  },
  {
   "cell_type": "markdown",
   "metadata": {},
   "source": [
    "### Verifying"
   ]
  },
  {
   "cell_type": "code",
   "execution_count": null,
   "metadata": {},
   "outputs": [],
   "source": [
    "# print(\"DataFrame 'DF_total_all' with 'Average_Age' column:\")\n",
    "# print(dropped_columns['DF_total_all'])"
   ]
  },
  {
   "cell_type": "markdown",
   "metadata": {},
   "source": [
    "## Joining Dataframes"
   ]
  },
  {
   "cell_type": "code",
   "execution_count": null,
   "metadata": {},
   "outputs": [],
   "source": [
    "# Iterate over the dataframes in 'dfs_perc_2'\n",
    "for df_name, df_perc in dfs_perc_2.items():\n",
    "    # Get the corresponding dataframe from 'dropped_columns'\n",
    "    df_dropped = dropped_columns[df_name]\n",
    "\n",
    "    # Concatenate the dataframes width-wise\n",
    "    joined_df = pd.concat([df_perc, df_dropped], axis=1)\n",
    "\n",
    "    # Update the 'dfs_perc_2' dataframe in place with the joined dataframe\n",
    "    dfs_perc_2[df_name] = joined_df\n",
    "\n",
    "    # Reset the index of the dataframe\n",
    "    dfs_perc_2[df_name].reset_index(drop=True, inplace=True)"
   ]
  },
  {
   "cell_type": "markdown",
   "metadata": {},
   "source": [
    "### Verifying"
   ]
  },
  {
   "cell_type": "markdown",
   "metadata": {},
   "source": [
    "Print all the count,name,shape,# of cols, col names of the dataframes"
   ]
  },
  {
   "cell_type": "markdown",
   "metadata": {},
   "source": [
    "##### dfs_perc_2"
   ]
  },
  {
   "cell_type": "code",
   "execution_count": null,
   "metadata": {},
   "outputs": [],
   "source": [
    "# # Print the number of dataframes in the 'dfs_perc_2' dictionary\n",
    "# print(\"Number of Dataframes in 'dfs_perc_2':\", len(dfs_perc_2))\n",
    "\n",
    "# # Print the shape of the dataframes in 'dfs_perc_2'\n",
    "# print(\"Data Frames in 'dfs_perc_2':\")\n",
    "# for df_name, df in dfs_perc_2.items():\n",
    "#     print(\"Dataframe Name:\", df_name)\n",
    "#     print(\"Shape:\", df.shape)\n",
    "#     print(f\"Number of Columns: {len(df.columns)}\")\n",
    "#     print(\"Columns:\", df.columns.tolist())"
   ]
  },
  {
   "cell_type": "markdown",
   "metadata": {},
   "source": [
    "#### dfs_perc"
   ]
  },
  {
   "cell_type": "code",
   "execution_count": null,
   "metadata": {},
   "outputs": [],
   "source": [
    "# # Print the number of dataframes in the 'dfs_perc' dictionary\n",
    "# print(\"Number of Dataframes in 'dfs_perc':\", len(dfs_perc))\n",
    "\n",
    "# # Print the shape of the dataframes in 'dfs_perc'\n",
    "# print(\"Data Frames in 'dfs_perc':\")\n",
    "# for df_name, df in dfs_perc.items():\n",
    "#     print(\"Dataframe Name:\", df_name)\n",
    "#     print(\"Shape:\", df.shape)\n",
    "#     print(f\"Number of Columns: {len(df.columns)}\")\n",
    "#     print(\"Columns:\", df.columns.tolist())"
   ]
  },
  {
   "cell_type": "markdown",
   "metadata": {},
   "source": [
    "#### dropped_columns"
   ]
  },
  {
   "cell_type": "code",
   "execution_count": null,
   "metadata": {},
   "outputs": [],
   "source": [
    "# # Print the number of dataframes in the 'dropped_columns' dictionary\n",
    "# print(\"Number of Dataframes in 'dropped_columns':\", len(dropped_columns))\n",
    "\n",
    "# # Print the shape of the dataframes in 'dropped_columns'\n",
    "# print(\"Data Frames in 'dropped_columns':\")\n",
    "# for df_name, df in dropped_columns.items():\n",
    "#     print(\"Dataframe Name:\", df_name)\n",
    "#     print(\"Shape:\", df.shape)\n",
    "#     print(f\"Number of Columns: {len(df.columns)}\")\n",
    "#     print(\"Columns:\", df.columns.tolist())"
   ]
  },
  {
   "cell_type": "markdown",
   "metadata": {},
   "source": [
    "### Verifying"
   ]
  },
  {
   "cell_type": "markdown",
   "metadata": {},
   "source": [
    "Print all the count,name,shape,# of cols, col names of the dataframes"
   ]
  },
  {
   "cell_type": "code",
   "execution_count": null,
   "metadata": {},
   "outputs": [],
   "source": [
    "# # Print the number of dataframes in the 'dfs' dictionary\n",
    "# print(\"Number of Dataframes in 'dfs':\", len(dfs))\n",
    "\n",
    "# # Print the shape of the dataframes in 'dfs'\n",
    "# print(\"Data Frames in 'dfs':\")\n",
    "# for df_name, df in dfs.items():\n",
    "#     print(\"Dataframe Name:\", df_name)\n",
    "#     print(\"Shape:\", df.shape)\n",
    "#     print(f\"Number of Columns: {len(df.columns)}\")\n",
    "#     print(\"Columns:\", df.columns.tolist())"
   ]
  },
  {
   "cell_type": "markdown",
   "metadata": {},
   "source": [
    "## Building Percent to Total columns"
   ]
  },
  {
   "cell_type": "markdown",
   "metadata": {},
   "source": [
    "Percent to total for ages in dfs of dict 'dfs_perc_2'"
   ]
  },
  {
   "cell_type": "code",
   "execution_count": null,
   "metadata": {},
   "outputs": [],
   "source": [
    "# Loop through each dataframe in the dictionary\n",
    "for df_name, df in dfs_perc_2.items():\n",
    "    # Get the list of columns in the dataframe that match cols_mod\n",
    "    columns = [col for col in df.columns if col in cols_mod]\n",
    "    updated_columns = []\n",
    "\n",
    "    # Reset the index to consolidate memory layout\n",
    "    df.reset_index(drop=True, inplace=True)\n",
    "\n",
    "    # Calculate the percentage values for the new column\n",
    "    for col in columns:\n",
    "        new_col_name = f'{col}_perc'\n",
    "        updated_columns.extend([col, new_col_name])\n",
    "\n",
    "        df[new_col_name] = [0 if total == 0 else (value / total)\n",
    "                            for value, total in zip(df[col], df['Total'])]\n",
    "\n",
    "    # Reorder the columns in the dataframe\n",
    "    df = df[updated_columns]\n",
    "\n",
    "    # Update the dataframe in the 'dfs_perc_2' dictionary\n",
    "    dfs_perc_2[df_name] = df"
   ]
  },
  {
   "cell_type": "markdown",
   "metadata": {},
   "source": [
    "### Verifying"
   ]
  },
  {
   "cell_type": "code",
   "execution_count": null,
   "metadata": {},
   "outputs": [],
   "source": [
    "# print(\"DataFrame 'DF_total_all' after modification:\")\n",
    "# print(dfs['DF_total_all'])"
   ]
  },
  {
   "cell_type": "markdown",
   "metadata": {},
   "source": [
    "## Joining Dictionaries"
   ]
  },
  {
   "cell_type": "code",
   "execution_count": null,
   "metadata": {},
   "outputs": [],
   "source": [
    "# Merge the dictionaries 'dfs' and 'dfs_perc_2' into 'dfs' in the order of 'df_names'\n",
    "for df_name in df_names:\n",
    "    if df_name in dfs_perc_2:\n",
    "        if df_name in dfs:\n",
    "            df_merged = pd.concat([dfs[df_name], dfs_perc_2[df_name]], axis=1)\n",
    "            dfs[df_name] = df_merged\n",
    "        else:\n",
    "            dfs[df_name] = dfs_perc_2[df_name]"
   ]
  },
  {
   "cell_type": "markdown",
   "metadata": {},
   "source": [
    "## Calculating Error Rates"
   ]
  },
  {
   "cell_type": "code",
   "execution_count": null,
   "metadata": {},
   "outputs": [],
   "source": [
    "# Assuming you have already loaded the 'DF_total_all' DataFrame\n",
    "\n",
    "# Step 1: Calculate the expected total by summing the individual racial category columns\n",
    "expected_total = dfs['DF_total_all'][['total_whi', 'total_baa', 'total_aian', 'total_aa', 'total_nhop', 'total_sor', 'total_tom', 'total_hol']].sum(axis=1)\n",
    "\n",
    "# Step 2: Find the absolute error by subtracting the 'Total' column from the expected total\n",
    "absolute_error = expected_total - dfs['DF_total_all']['Total']\n",
    "\n",
    "# Step 3: Calculate the error rate as the absolute error divided by the expected total, multiplied by 100\n",
    "error_rate = (absolute_error / expected_total) * 100\n",
    "\n",
    "# Add the 'expected_total', 'absolute_error', and 'error_rate' columns to the DataFrame\n",
    "dfs['DF_total_all']['Expected Total'] = expected_total\n",
    "dfs['DF_total_all']['Absolute Error'] = absolute_error\n",
    "dfs['DF_total_all']['Error Rate'] = error_rate"
   ]
  },
  {
   "cell_type": "markdown",
   "metadata": {},
   "source": [
    "### Verifying"
   ]
  },
  {
   "cell_type": "code",
   "execution_count": null,
   "metadata": {},
   "outputs": [],
   "source": [
    "# # Display the DataFrame with the added columns\n",
    "# print(dfs['DF_total_all'])"
   ]
  },
  {
   "cell_type": "markdown",
   "metadata": {},
   "source": [
    "## Updating column order"
   ]
  },
  {
   "cell_type": "markdown",
   "metadata": {},
   "source": [
    "Setting the variables for column order for DF_total_all"
   ]
  },
  {
   "cell_type": "markdown",
   "metadata": {},
   "source": [
    "The total all DF is unique and needs to be done seperately"
   ]
  },
  {
   "cell_type": "code",
   "execution_count": null,
   "metadata": {},
   "outputs": [],
   "source": [
    "col_loc_tot_all = [0,'0_perc',1,'1_perc',2,'2_perc',3,'3_perc',4,'4_perc',5,\n",
    "                   '5_perc',6,'6_perc',7,'7_perc',8,'8_perc',9,'9_perc',10,\n",
    "                   '10_perc',11,'11_perc',12,'12_perc',13,'13_perc',14,\n",
    "                   '14_perc',15,'15_perc',16,'16_perc',17,'17_perc',18,\n",
    "                   '18_perc',19,'19_perc',20,'20_perc',21,'21_perc',22,\n",
    "                   '22_perc',23,'23_perc',24,'24_perc',25,'25_perc',26,\n",
    "                   '26_perc',27,'27_perc',28,'28_perc',29,'29_perc',30,\n",
    "                   '30_perc',31,'31_perc',32,'32_perc',33,'33_perc',34,\n",
    "                   '34_perc',35,'35_perc',36,'36_perc',37,'37_perc',38,\n",
    "                   '38_perc',39,'39_perc',40,'40_perc',41,'41_perc',42,\n",
    "                   '42_perc',43,'43_perc',44,'44_perc',45,'45_perc',46,\n",
    "                   '46_perc',47,'47_perc',48,'48_perc',49,'49_perc',50,\n",
    "                   '50_perc',51,'51_perc',52,'52_perc',53,'53_perc',54,\n",
    "                   '54_perc',55,'55_perc',56,'56_perc',57,'57_perc',58,\n",
    "                   '58_perc',59,'59_perc',60,'60_perc',61,'61_perc',62,\n",
    "                   '62_perc',63,'63_perc',64,'64_perc',65,'65_perc',66,\n",
    "                   '66_perc',67,'67_perc',68,'68_perc',69,'69_perc',70,\n",
    "                   '70_perc',71,'71_perc',72,'72_perc',73,'73_perc',74,\n",
    "                   '74_perc',75,'75_perc',76,'76_perc',77,'77_perc',78,\n",
    "                   '78_perc',79,'79_perc',80,'80_perc',81,'81_perc',82,\n",
    "                   '82_perc',83,'83_perc',84,'84_perc',85,'85_perc',86,\n",
    "                   '86_perc',87,'87_perc',88,'88_perc',89,'89_perc',90,\n",
    "                   '90_perc',91,'91_perc',92,'92_perc',93,'93_perc',94,\n",
    "                   '94_perc',95,'95_perc',96,'96_perc',97,'97_perc',98,\n",
    "                   '98_perc',99,'99_perc',102,'102_perc',107,'107_perc',\n",
    "                   110,'110_perc','Average_Age','male_all','female_all',\n",
    "                   'total_whi','total_baa','total_aian','total_aa',\n",
    "                   'total_nhop','total_sor','total_tom','total_hol',\n",
    "                   'Expected Total','Total','Absolute Error','Error Rate',\n",
    "                   'Location','State','County','FIPS'\n",
    "                   ]"
   ]
  },
  {
   "cell_type": "markdown",
   "metadata": {},
   "source": [
    "### Ordering process"
   ]
  },
  {
   "cell_type": "code",
   "execution_count": null,
   "metadata": {},
   "outputs": [],
   "source": [
    "# Modify only the 'DF_total_all' dataframe\n",
    "df = dfs['DF_total_all']\n",
    "\n",
    "# Reorder the columns in the dataframe based on 'col_loc_tot_all'\n",
    "df = df[col_loc_tot_all]\n",
    "\n",
    "# Update the dataframe in the 'dfs' dictionary\n",
    "dfs['DF_total_all'] = df"
   ]
  },
  {
   "cell_type": "markdown",
   "metadata": {},
   "source": [
    "Setting the variables for column order for total race dataframes"
   ]
  },
  {
   "cell_type": "code",
   "execution_count": null,
   "metadata": {},
   "outputs": [],
   "source": [
    "df_perc_8 = ['DF_total_whi','DF_total_baa','DF_total_aian','DF_total_aa',\n",
    "             'DF_total_nhop','DF_total_sor','DF_total_tom','DF_total_hol'\n",
    "             ]\n",
    "\n",
    "col_loc = [0,'0_perc',1,'1_perc',2,'2_perc',3,'3_perc',4,'4_perc',5,'5_perc',6,\n",
    "           '6_perc',7,'7_perc',8,'8_perc',9,'9_perc',10,'10_perc',11,'11_perc',\n",
    "           12,'12_perc',13,'13_perc',14,'14_perc',15,'15_perc',16,'16_perc',17,\n",
    "           '17_perc',18,'18_perc',19,'19_perc',20,'20_perc',21,'21_perc',22,\n",
    "           '22_perc',23,'23_perc',24,'24_perc',25,'25_perc',26,'26_perc',27,\n",
    "           '27_perc',28,'28_perc',29,'29_perc',30,'30_perc',31,'31_perc',32,\n",
    "           '32_perc',33,'33_perc',34,'34_perc',35,'35_perc',36,'36_perc',37,\n",
    "           '37_perc',38,'38_perc',39,'39_perc',40,'40_perc',41,'41_perc',42,\n",
    "           '42_perc',43,'43_perc',44,'44_perc',45,'45_perc',46,'46_perc',47,\n",
    "           '47_perc',48,'48_perc',49,'49_perc',50,'50_perc',51,'51_perc',52,\n",
    "           '52_perc',53,'53_perc',54,'54_perc',55,'55_perc',56,'56_perc',57,\n",
    "           '57_perc',58,'58_perc',59,'59_perc',60,'60_perc',61,'61_perc',62,\n",
    "           '62_perc',63,'63_perc',64,'64_perc',65,'65_perc',66,'66_perc',67,\n",
    "           '67_perc',68,'68_perc',69,'69_perc',70,'70_perc',71,'71_perc',72,\n",
    "           '72_perc',73,'73_perc',74,'74_perc',75,'75_perc',76,'76_perc',77,\n",
    "           '77_perc',78,'78_perc',79,'79_perc',80,'80_perc',81,'81_perc',82,\n",
    "           '82_perc',83,'83_perc',84,'84_perc',85,'85_perc',86,'86_perc',87,\n",
    "           '87_perc',88,'88_perc',89,'89_perc',90,'90_perc',91,'91_perc',92,\n",
    "           '92_perc',93,'93_perc',94,'94_perc',95,'95_perc',96,'96_perc',97,\n",
    "           '97_perc',98,'98_perc',99,'99_perc',102,'102_perc',107,'107_perc',\n",
    "           110,'110_perc','Average_Age','Total','Location','State','County',\n",
    "           'FIPS']\n",
    "\n",
    "spec_col_dict = {\n",
    "        'DF_total_whi': ['total_male_whi','total_female_whi'],\n",
    "        'DF_total_baa': ['total_male_baa','total_female_baa'],\n",
    "        'DF_total_aian': ['total_male_aian','total_female_aian'],\n",
    "        'DF_total_aa': ['total_male_aa','total_female_aa'],\n",
    "        'DF_total_nhop': ['total_male_nhop','total_female_nhop'],\n",
    "        'DF_total_sor': ['total_male_sor','total_female_sor'],\n",
    "        'DF_total_tom': ['total_male_tom','total_female_tom'],\n",
    "        'DF_total_hol': ['total_male_hol','total_female_hol'],\n",
    "        }"
   ]
  },
  {
   "cell_type": "markdown",
   "metadata": {},
   "source": [
    "### Ordering process"
   ]
  },
  {
   "cell_type": "code",
   "execution_count": null,
   "metadata": {},
   "outputs": [],
   "source": [
    "# Specify the index where you want to insert the specific columns\n",
    "insert_index = 207  \n",
    "\n",
    "# Iterate through the list of dataframe names\n",
    "for df_name in df_perc_8:\n",
    "    # Get the dataframe from the 'dfs' dictionary\n",
    "    df = dfs[df_name]\n",
    "\n",
    "    # Get the specific column names for the current dataframe\n",
    "    df_spec_col_dict = spec_col_dict[df_name]\n",
    "\n",
    "    # Separate the columns into two groups: common columns and specific columns\n",
    "    common_columns = [col for col in col_loc if col not in df_spec_col_dict]\n",
    "    specific_columns = df_spec_col_dict\n",
    "\n",
    "    # Reorder the common columns in the dataframe\n",
    "    df_common_reordered = df[common_columns]\n",
    "\n",
    "    # Reindex the dataframe with the updated column order\n",
    "    updated_columns = common_columns[:insert_index] + specific_columns + common_columns[insert_index:]\n",
    "    df = df_common_reordered.reindex(columns=updated_columns)\n",
    "\n",
    "    # Update the dataframe in the 'dfs' dictionary\n",
    "    dfs[df_name] = df"
   ]
  },
  {
   "cell_type": "code",
   "execution_count": null,
   "metadata": {},
   "outputs": [],
   "source": []
  },
  {
   "cell_type": "markdown",
   "metadata": {},
   "source": [
    "## Export to excel"
   ]
  },
  {
   "cell_type": "markdown",
   "metadata": {},
   "source": [
    "Create workbook and export wanted dataframes to excel as individual sheets."
   ]
  },
  {
   "cell_type": "code",
   "execution_count": null,
   "metadata": {},
   "outputs": [],
   "source": [
    "# Define the file name\n",
    "file_name = '2020_agesex_statistics.xlsx'\n",
    "\n",
    "# Get the file path in the current working directory\n",
    "file_path = os.path.join(os.getcwd(), file_name)\n",
    "\n",
    "# Check if the file exists\n",
    "if os.path.exists(file_path):\n",
    "    # Load the existing Excel file\n",
    "    excel_file = pd.read_excel(file_path, engine='openpyxl')\n",
    "\n",
    "    # Create a new ExcelWriter object using the existing file\n",
    "    writer = pd.ExcelWriter(file_path, engine='openpyxl', if_sheet_exists='replace', mode='a')\n",
    "\n",
    "    # Iterate through the dataframes in dfs\n",
    "    for df_name, df in dfs.items():  # Use 'dfs.items()' to get the name (key) and dataframe (value)\n",
    "        # Get the name of the dataframe\n",
    "        name = df_name\n",
    "\n",
    "        # Write each dataframe to a separate sheet in the Excel file\n",
    "        df.to_excel(writer, sheet_name=name, index=False)\n",
    "\n",
    "    # Close the writer\n",
    "    writer.close()\n",
    "\n",
    "else:\n",
    "    # Create a new workbook\n",
    "    writer = pd.ExcelWriter(file_path, engine='openpyxl')\n",
    "\n",
    "    # Iterate through the dataframes in dfs\n",
    "    for df_name, df in dfs.items():  # Use 'dfs.items()' to get the name (key) and dataframe (value)\n",
    "        # Get the name of the dataframe\n",
    "        name = df_name\n",
    "\n",
    "        # Write each dataframe to a separate sheet in the Excel file\n",
    "        df.to_excel(writer, sheet_name=name, index=False)\n",
    "\n",
    "    # Close the writer\n",
    "    writer.close()"
   ]
  }
 ],
 "metadata": {
  "kernelspec": {
   "display_name": ".venv",
   "language": "python",
   "name": "python3"
  },
  "language_info": {
   "codemirror_mode": {
    "name": "ipython",
    "version": 3
   },
   "file_extension": ".py",
   "mimetype": "text/x-python",
   "name": "python",
   "nbconvert_exporter": "python",
   "pygments_lexer": "ipython3",
   "version": "3.11.1"
  },
  "orig_nbformat": 4
 },
 "nbformat": 4,
 "nbformat_minor": 2
}
